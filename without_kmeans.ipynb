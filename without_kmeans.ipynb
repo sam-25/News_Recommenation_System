{
 "cells": [
  {
   "cell_type": "code",
   "execution_count": 2,
   "metadata": {},
   "outputs": [],
   "source": [
    "import pandas as pd\n",
    "import numpy as np\n",
    "from sklearn.metrics.pairwise import cosine_similarity\n",
    "import textwrap\n",
    "from IPython.display import clear_output"
   ]
  },
  {
   "cell_type": "code",
   "execution_count": 3,
   "metadata": {},
   "outputs": [],
   "source": [
    "userId=np.load('userId.npy')\n",
    "userEmbedding=np.load('user_embedding.npy')\n",
    "newsId=np.load('itemId.npy')\n",
    "newsEmbedding=np.load('news_embeddings_numpy.npy')\n",
    "news_data=pd.read_csv('preprocessed_news.csv')\n",
    "category_embeddings=np.load('category_embeddings.npy')\n",
    "subcategory_embeddings=np.load('subcategory_embeddings.npy')\n",
    "title_embeddings=np.load('title_embeddings.npy')\n",
    "abstract_embeddings=np.load('abstract_embeddings.npy')"
   ]
  },
  {
   "cell_type": "code",
   "execution_count": 6,
   "metadata": {},
   "outputs": [],
   "source": [
    "# creating news embeddings using weighted combinations of different column embeddings\n",
    "weighted_news_embeddings=0.3*category_embeddings+0.2*subcategory_embeddings+0.3*title_embeddings+0.2*abstract_embeddings"
   ]
  },
  {
   "cell_type": "code",
   "execution_count": 7,
   "metadata": {},
   "outputs": [],
   "source": [
    "weighted_dict={}\n",
    "for i in range(len(newsId)):\n",
    "    weighted_dict[newsId[i]]=weighted_news_embeddings[i]"
   ]
  },
  {
   "cell_type": "code",
   "execution_count": 8,
   "metadata": {},
   "outputs": [],
   "source": [
    "dict={}\n",
    "for i in range(len(newsId)):\n",
    "    dict[newsId[i]]=newsEmbedding[i]"
   ]
  },
  {
   "cell_type": "code",
   "execution_count": 9,
   "metadata": {},
   "outputs": [],
   "source": [
    "random_news=news_data.groupby('category').sample(n=1)"
   ]
  },
  {
   "cell_type": "code",
   "execution_count": 10,
   "metadata": {},
   "outputs": [],
   "source": [
    "preview_news=random_news[['category','subcategory','itemId','title','abstract']]"
   ]
  },
  {
   "cell_type": "code",
   "execution_count": 57,
   "metadata": {},
   "outputs": [],
   "source": [
    "preview_news=preview_news.reset_index()"
   ]
  },
  {
   "cell_type": "code",
   "execution_count": 58,
   "metadata": {},
   "outputs": [
    {
     "data": {
      "text/html": [
       "<div>\n",
       "<style scoped>\n",
       "    .dataframe tbody tr th:only-of-type {\n",
       "        vertical-align: middle;\n",
       "    }\n",
       "\n",
       "    .dataframe tbody tr th {\n",
       "        vertical-align: top;\n",
       "    }\n",
       "\n",
       "    .dataframe thead th {\n",
       "        text-align: right;\n",
       "    }\n",
       "</style>\n",
       "<table border=\"1\" class=\"dataframe\">\n",
       "  <thead>\n",
       "    <tr style=\"text-align: right;\">\n",
       "      <th></th>\n",
       "      <th>index</th>\n",
       "      <th>category</th>\n",
       "      <th>subcategory</th>\n",
       "      <th>itemId</th>\n",
       "      <th>title</th>\n",
       "      <th>abstract</th>\n",
       "    </tr>\n",
       "  </thead>\n",
       "  <tbody>\n",
       "    <tr>\n",
       "      <th>0</th>\n",
       "      <td>21408</td>\n",
       "      <td>autos</td>\n",
       "      <td>autosnews</td>\n",
       "      <td>N4685</td>\n",
       "      <td>Route 51 Crash Causing Heavy Delays</td>\n",
       "      <td>A crash along Route 51 is causing significant ...</td>\n",
       "    </tr>\n",
       "    <tr>\n",
       "      <th>1</th>\n",
       "      <td>7681</td>\n",
       "      <td>entertainment</td>\n",
       "      <td>entertainment-celebrity</td>\n",
       "      <td>N9134</td>\n",
       "      <td>Jennifer Aniston, Hilary Duff, Megan Fox and M...</td>\n",
       "      <td></td>\n",
       "    </tr>\n",
       "    <tr>\n",
       "      <th>2</th>\n",
       "      <td>16234</td>\n",
       "      <td>finance</td>\n",
       "      <td>finance-top-stocks</td>\n",
       "      <td>N47211</td>\n",
       "      <td>Microsoft (MSFT) to Report Q1 Earnings: What t...</td>\n",
       "      <td>Microsoft Corp. MSFT is set to report first-qu...</td>\n",
       "    </tr>\n",
       "    <tr>\n",
       "      <th>3</th>\n",
       "      <td>1864</td>\n",
       "      <td>foodanddrink</td>\n",
       "      <td>foodnews</td>\n",
       "      <td>N41490</td>\n",
       "      <td>World's best bar for 2019 revealed</td>\n",
       "      <td>The world's best bar awards have been handed o...</td>\n",
       "    </tr>\n",
       "    <tr>\n",
       "      <th>4</th>\n",
       "      <td>12481</td>\n",
       "      <td>health</td>\n",
       "      <td>nutrition</td>\n",
       "      <td>N20145</td>\n",
       "      <td>Everyone Is Talking About Ruby Chocolate, But ...</td>\n",
       "      <td>The recently-discovered fourth chocolate is fr...</td>\n",
       "    </tr>\n",
       "    <tr>\n",
       "      <th>5</th>\n",
       "      <td>38560</td>\n",
       "      <td>kids</td>\n",
       "      <td>people-places</td>\n",
       "      <td>N44039</td>\n",
       "      <td>Strange disease threatens Caribbean coral reef</td>\n",
       "      <td>The breathtaking reds, yellows and purples of ...</td>\n",
       "    </tr>\n",
       "    <tr>\n",
       "      <th>6</th>\n",
       "      <td>31617</td>\n",
       "      <td>lifestyle</td>\n",
       "      <td>shop-home-goods</td>\n",
       "      <td>N4291</td>\n",
       "      <td>Organize Your Home With These Cute Small-Space...</td>\n",
       "      <td>Mustering up the energy to organize can be qui...</td>\n",
       "    </tr>\n",
       "    <tr>\n",
       "      <th>7</th>\n",
       "      <td>8215</td>\n",
       "      <td>middleeast</td>\n",
       "      <td>middleeast-top-stories</td>\n",
       "      <td>N54746</td>\n",
       "      <td>Saudi says Baghdadi 'distorted' image of Islam...</td>\n",
       "      <td>Saudi Arabia said Monday that Islamic State le...</td>\n",
       "    </tr>\n",
       "    <tr>\n",
       "      <th>8</th>\n",
       "      <td>47246</td>\n",
       "      <td>movies</td>\n",
       "      <td>movies-gallery</td>\n",
       "      <td>N27936</td>\n",
       "      <td>50 Worst Movie Sequels of All Time</td>\n",
       "      <td>Movie sequels and prequels are becoming more c...</td>\n",
       "    </tr>\n",
       "    <tr>\n",
       "      <th>9</th>\n",
       "      <td>43037</td>\n",
       "      <td>music</td>\n",
       "      <td>musicnews</td>\n",
       "      <td>N60249</td>\n",
       "      <td>Cleveland Orchestra to perform 'Harry Potter a...</td>\n",
       "      <td></td>\n",
       "    </tr>\n",
       "    <tr>\n",
       "      <th>10</th>\n",
       "      <td>36356</td>\n",
       "      <td>news</td>\n",
       "      <td>newsus</td>\n",
       "      <td>N8178</td>\n",
       "      <td>Neighbor Ride celebrates 15 years of helping s...</td>\n",
       "      <td>A large painting in the Columbia offices of Ne...</td>\n",
       "    </tr>\n",
       "    <tr>\n",
       "      <th>11</th>\n",
       "      <td>46861</td>\n",
       "      <td>northamerica</td>\n",
       "      <td>northamerica-video</td>\n",
       "      <td>N57229</td>\n",
       "      <td>Republicans have floated 17 different defenses...</td>\n",
       "      <td>Since the House formally launched the impeachm...</td>\n",
       "    </tr>\n",
       "    <tr>\n",
       "      <th>12</th>\n",
       "      <td>50025</td>\n",
       "      <td>sports</td>\n",
       "      <td>football_nfl</td>\n",
       "      <td>N24650</td>\n",
       "      <td>Who is NFL's most overlooked top-performing pl...</td>\n",
       "      <td>Not every NFL standout can get the Russell Wil...</td>\n",
       "    </tr>\n",
       "    <tr>\n",
       "      <th>13</th>\n",
       "      <td>15522</td>\n",
       "      <td>travel</td>\n",
       "      <td>travelarticle</td>\n",
       "      <td>N62973</td>\n",
       "      <td>Italian Pride On Display As 75th Annual Columb...</td>\n",
       "      <td>A sea of red, white and green took over Manhat...</td>\n",
       "    </tr>\n",
       "    <tr>\n",
       "      <th>14</th>\n",
       "      <td>37329</td>\n",
       "      <td>tv</td>\n",
       "      <td>tvnews</td>\n",
       "      <td>N25305</td>\n",
       "      <td>'Days Of Our Lives' Cast Freed From Contract, ...</td>\n",
       "      <td>The fate of the 56-year-old daytime soap opera...</td>\n",
       "    </tr>\n",
       "    <tr>\n",
       "      <th>15</th>\n",
       "      <td>17254</td>\n",
       "      <td>video</td>\n",
       "      <td>news</td>\n",
       "      <td>N1949</td>\n",
       "      <td>Congressman weighs in on this week's hearings</td>\n",
       "      <td>Rep. Raja Krishnamoorthi, D-Ill., of the Intel...</td>\n",
       "    </tr>\n",
       "    <tr>\n",
       "      <th>16</th>\n",
       "      <td>24471</td>\n",
       "      <td>weather</td>\n",
       "      <td>weathertopstories</td>\n",
       "      <td>N28791</td>\n",
       "      <td>Big drop in temperatures coming to Louisiana t...</td>\n",
       "      <td>Are you ready for a bid drop in temperatures a...</td>\n",
       "    </tr>\n",
       "  </tbody>\n",
       "</table>\n",
       "</div>"
      ],
      "text/plain": [
       "    index       category              subcategory  itemId  \\\n",
       "0   21408          autos                autosnews   N4685   \n",
       "1    7681  entertainment  entertainment-celebrity   N9134   \n",
       "2   16234        finance       finance-top-stocks  N47211   \n",
       "3    1864   foodanddrink                 foodnews  N41490   \n",
       "4   12481         health                nutrition  N20145   \n",
       "5   38560           kids            people-places  N44039   \n",
       "6   31617      lifestyle          shop-home-goods   N4291   \n",
       "7    8215     middleeast   middleeast-top-stories  N54746   \n",
       "8   47246         movies           movies-gallery  N27936   \n",
       "9   43037          music                musicnews  N60249   \n",
       "10  36356           news                   newsus   N8178   \n",
       "11  46861   northamerica       northamerica-video  N57229   \n",
       "12  50025         sports             football_nfl  N24650   \n",
       "13  15522         travel            travelarticle  N62973   \n",
       "14  37329             tv                   tvnews  N25305   \n",
       "15  17254          video                     news   N1949   \n",
       "16  24471        weather        weathertopstories  N28791   \n",
       "\n",
       "                                                title  \\\n",
       "0                 Route 51 Crash Causing Heavy Delays   \n",
       "1   Jennifer Aniston, Hilary Duff, Megan Fox and M...   \n",
       "2   Microsoft (MSFT) to Report Q1 Earnings: What t...   \n",
       "3                  World's best bar for 2019 revealed   \n",
       "4   Everyone Is Talking About Ruby Chocolate, But ...   \n",
       "5      Strange disease threatens Caribbean coral reef   \n",
       "6   Organize Your Home With These Cute Small-Space...   \n",
       "7   Saudi says Baghdadi 'distorted' image of Islam...   \n",
       "8                  50 Worst Movie Sequels of All Time   \n",
       "9   Cleveland Orchestra to perform 'Harry Potter a...   \n",
       "10  Neighbor Ride celebrates 15 years of helping s...   \n",
       "11  Republicans have floated 17 different defenses...   \n",
       "12  Who is NFL's most overlooked top-performing pl...   \n",
       "13  Italian Pride On Display As 75th Annual Columb...   \n",
       "14  'Days Of Our Lives' Cast Freed From Contract, ...   \n",
       "15      Congressman weighs in on this week's hearings   \n",
       "16  Big drop in temperatures coming to Louisiana t...   \n",
       "\n",
       "                                             abstract  \n",
       "0   A crash along Route 51 is causing significant ...  \n",
       "1                                                      \n",
       "2   Microsoft Corp. MSFT is set to report first-qu...  \n",
       "3   The world's best bar awards have been handed o...  \n",
       "4   The recently-discovered fourth chocolate is fr...  \n",
       "5   The breathtaking reds, yellows and purples of ...  \n",
       "6   Mustering up the energy to organize can be qui...  \n",
       "7   Saudi Arabia said Monday that Islamic State le...  \n",
       "8   Movie sequels and prequels are becoming more c...  \n",
       "9                                                      \n",
       "10  A large painting in the Columbia offices of Ne...  \n",
       "11  Since the House formally launched the impeachm...  \n",
       "12  Not every NFL standout can get the Russell Wil...  \n",
       "13  A sea of red, white and green took over Manhat...  \n",
       "14  The fate of the 56-year-old daytime soap opera...  \n",
       "15  Rep. Raja Krishnamoorthi, D-Ill., of the Intel...  \n",
       "16  Are you ready for a bid drop in temperatures a...  "
      ]
     },
     "execution_count": 58,
     "metadata": {},
     "output_type": "execute_result"
    }
   ],
   "source": [
    "#displaying these for new user\n",
    "preview_news"
   ]
  },
  {
   "cell_type": "code",
   "execution_count": 59,
   "metadata": {},
   "outputs": [],
   "source": [
    "#user selecting these articles to read\n",
    "user_read_articles=[0,5,8,10]"
   ]
  },
  {
   "cell_type": "code",
   "execution_count": 5,
   "metadata": {},
   "outputs": [
    {
     "data": {
      "text/plain": [
       "'N60855'"
      ]
     },
     "execution_count": 5,
     "metadata": {},
     "output_type": "execute_result"
    }
   ],
   "source": [
    "news_data['itemId'][48540]"
   ]
  },
  {
   "cell_type": "code",
   "execution_count": 60,
   "metadata": {},
   "outputs": [],
   "source": [
    "def L2(u,a):\n",
    "    return np.linalg.norm(u-a)"
   ]
  },
  {
   "attachments": {},
   "cell_type": "markdown",
   "metadata": {},
   "source": [
    "## weighted embeddings of news items"
   ]
  },
  {
   "cell_type": "code",
   "execution_count": 61,
   "metadata": {},
   "outputs": [],
   "source": [
    "#calculating distances between selected articles and all other non selected articles\n",
    "weighted_indices_to_recommend=[]\n",
    "for i in user_read_articles:\n",
    "    distances=[]\n",
    "    for j in range(len(weighted_news_embeddings)):\n",
    "        distances.append((L2(weighted_dict[preview_news['itemId'][i]],weighted_news_embeddings[j]),j))\n",
    "    distances=sorted(distances)\n",
    "    for k in distances:\n",
    "        if k[0]!=0:\n",
    "            weighted_indices_to_recommend.append(k)\n",
    "            break"
   ]
  },
  {
   "cell_type": "code",
   "execution_count": 62,
   "metadata": {},
   "outputs": [],
   "source": [
    "#taking average of article embeddings which user selected\n",
    "weighter_user_embedding=np.zeros(384)\n",
    "for i in user_read_articles:\n",
    "    weighter_user_embedding+=weighted_dict[preview_news['itemId'][i]]\n",
    "weighter_user_embedding/=len(user_read_articles)"
   ]
  },
  {
   "cell_type": "code",
   "execution_count": 63,
   "metadata": {},
   "outputs": [],
   "source": [
    "#finding distance between user embedding and all the news article embeddings\n",
    "weighted_distances=[]\n",
    "for i in range(len(newsEmbedding)):\n",
    "    weighted_distances.append((L2(weighter_user_embedding,weighted_news_embeddings[i]),i))\n",
    "\n",
    "weighted_distances=sorted(weighted_distances)\n"
   ]
  },
  {
   "attachments": {},
   "cell_type": "markdown",
   "metadata": {},
   "source": [
    "## news item embeddings without weight"
   ]
  },
  {
   "cell_type": "code",
   "execution_count": 64,
   "metadata": {},
   "outputs": [],
   "source": [
    "indices_to_recommend=[]"
   ]
  },
  {
   "cell_type": "code",
   "execution_count": 65,
   "metadata": {},
   "outputs": [],
   "source": [
    "#finding user embeddings by taking average of all the articles user read\n",
    "new_user_embedding=np.zeros(384)\n",
    "for i in user_read_articles:\n",
    "    new_user_embedding+=dict[preview_news['itemId'][i]]\n",
    "new_user_embedding/=len(user_read_articles)\n",
    "    "
   ]
  },
  {
   "cell_type": "code",
   "execution_count": 66,
   "metadata": {},
   "outputs": [],
   "source": [
    "# calculating the distances between user read articles and all the remaining articles user didnt read\n",
    "for i in user_read_articles:\n",
    "    distances=[]\n",
    "    for j in range(len(newsEmbedding)):\n",
    "        distances.append((L2(dict[preview_news['itemId'][i]],newsEmbedding[j]),j))\n",
    "    distances=sorted(distances)\n",
    "    for k in distances:\n",
    "        if k[0]!=0:\n",
    "            indices_to_recommend.append(k)\n",
    "            break\n",
    "    \n",
    "distances=[]\n",
    "for i in range(len(newsEmbedding)):\n",
    "    distances.append((L2(new_user_embedding,newsEmbedding[i]),i))\n",
    "\n",
    "distances=sorted(distances)\n"
   ]
  },
  {
   "cell_type": "code",
   "execution_count": 67,
   "metadata": {},
   "outputs": [
    {
     "data": {
      "text/plain": [
       "[(4.499967, 50073), (5.239134, 6567), (5.2826395, 22170), (4.8313417, 25525)]"
      ]
     },
     "execution_count": 67,
     "metadata": {},
     "output_type": "execute_result"
    }
   ],
   "source": [
    "indices_to_recommend"
   ]
  },
  {
   "cell_type": "code",
   "execution_count": 68,
   "metadata": {},
   "outputs": [
    {
     "name": "stdout",
     "output_type": "stream",
     "text": [
      "category:  autos   subcategory:  autosnews   title:  Interstate 83: Morning crash cleared, but causing backed up traffic in both directions   abstract:  Backed up traffic is from a crash that happened shortly after 5 a.m.\n",
      "category:  news   subcategory:  newsscienceandtechnology   title:  These Coral Have a Unique Survival Strategy That Lets Them Recover After Deadly Warming Events   abstract:  The findings are some rare good news for corals around the world, which are facing numerous severe threats.\n",
      "category:  movies   subcategory:  movies-gallery   title:  The 47 best scary movies of all time, ranked by critics   abstract:  From classics like \"Carrie\" and \"Rosemary's Baby\" to more contemporary titles like \"Hereditary,\" these films are guaranteed to keep you up at night.\n",
      "category:  news   subcategory:  newsus   title:  Sanitation worker caught on camera going out of his way to help 88-year-old metro woman   abstract:  INDEPENDENCE, Mo. -- A kind gesture led to an unlikely friendship between a sanitation worker and an elderly woman in Independence. Colette Kingston often monitors movement around her 88-year-old mother's home on East 8th Street South. She had a Ring camera installed to check on her mother, Opal Zucca, who has dementia. On Monday, she saw something that she could only describe as \"sweet.\" \"I ...\n"
     ]
    }
   ],
   "source": [
    "#without taking average\n",
    "for i in indices_to_recommend:\n",
    "    print(\"category: \",news_data['category'][i[1]],\"  subcategory: \",news_data['subcategory'][i[1]],'  title: ',news_data['title'][i[1]],'  abstract: ',news_data['abstract'][i[1]])"
   ]
  },
  {
   "cell_type": "code",
   "execution_count": 69,
   "metadata": {},
   "outputs": [
    {
     "name": "stdout",
     "output_type": "stream",
     "text": [
      "category:  news   subcategory:  newsus   title:  Traffic back to normal on Route 283 near Spooky Nook Road   abstract:  There were severe backlogs this morning on Route 283 in Lancaster County, but the crash has been cleared. - The delays were in the eastbound lanes. Several miles of traffic backed up. Sign up for our Newsletters - PennDOT said it was all caused by a fender-bender. - Again, the crash has been cleared and traffic is flowing normally. TOP STORIES FROM WGAL: Up to 50 shots fired at police in morning standoff Mother charged in infant's death...\n",
      "category:  travel   subcategory:  travelarticle   title:  I-94 south reopens between Highway 20, CTH E   abstract:  All lanes of Interstate 94 southbound have reopened between Highway 20 and County Highway E after a crash. The crash was affecting drivers in Racine and Kenosha counties. It's not yet known what caused the crash. No other details were immediately released. READ MORE:I-94 south reopens between Highway 20, CTH E CHECK OUT WISN:Get the top Milwaukee news weather and sports. With the day's biggest stories and ones you may have missed, our Wisconsin...\n",
      "category:  news   subcategory:  newsworld   title:  'We will never, ever recover' - victims lash out at suspect in Esplanade crash that killed 2, injured others   abstract:  When Tashonty Toney got behind the wheel of his vehicle on March 2 and plowed into a crowd of bicyclists, killing two and badly injuring others he changed the lives of so many, including himself. Monday, Toney agreed to plead guilty to two counts of vehicular homicide for the deaths of Sharee Walls and David Hynes, ending a dispute over his blood alcohol level at the time of the deadly crash. He will be sentenced Tuesday, but Monday friends and...\n",
      "category:  autos   subcategory:  autosnews   title:  Deadly crash snarls I-80 traffic in Sacramento County   abstract:  A deadly crash on Interstate 80 near Madison Avenue caused a major backup Tuesday morning. A motorcyclist, a 38-year-old man from Los Angeles, collided with the back of a Ford Fusion around 4:30 a.m, the California Highway Patrol said. The man and his motorcycle slid on the roadway and came to a rest directly in the path of a big rig. The driver of the big rig was unable to avoid hitting the motorcyclist, CHP said. The motorcyclist was declared...\n",
      "category:  news   subcategory:  newsus   title:  HPD suspects street racing to blame for fatal crash in SW Houston   abstract:  The Houston Police Department says street racing is possible to blame for a fatal crash in southwest Houston. Larry Crawson with HPD told KHOU 11 that this is the \"worst split of a car I've ever seen.\" The accident happened at Hillcroft Street and W. Bellfort Avenue. Police said a car lost control, crashed into a tree and split in half. Only one vehicle was involved in the accident. This is an active scene. Check back for updates. ALSO POPULAR...\n"
     ]
    }
   ],
   "source": [
    "#using average of articles read\n",
    "for i in distances[:5]:\n",
    "    print(\"category: \",news_data['category'][i[1]],\"  subcategory: \",news_data['subcategory'][i[1]],'  title: ',news_data['title'][i[1]],'  abstract: ',news_data['abstract'][i[1]])"
   ]
  },
  {
   "cell_type": "code",
   "execution_count": 70,
   "metadata": {},
   "outputs": [
    {
     "name": "stdout",
     "output_type": "stream",
     "text": [
      "category:  autos   subcategory:  autosnews   title:  Crashes on 280, 17 block lanes, slow morning commute   abstract:  A crash on one critical commute route was cleared early Thursday on Interstate 580 west but two more are creating traffic troubles on I-280 in South San Francisco and on Highway 17 north in Los Gatos, where all lanes are blocked. Two lanes of northbound I-280 are closed north of Avalon Drive in South San Francisco, slowing traffic and prompting the California Highway Patrol to issue a severe traffic alert at 6:27 a.m. and advise drivers to take...\n",
      "category:  kids   subcategory:  people-places   title:  Indigenous leaders urge EU to protect forest homeland   abstract:  Brazilian indigenous leaders pleaded Tuesday with European lawmakers to protect the Amazon and the communities living there, warning that the West's insatiable appetite was risking the health of the planet.\n",
      "category:  movies   subcategory:  movies-gallery   title:  50 Best Movie Sequels of All Time   abstract:  A successful film franchise can ensure box office earnings like few other movie offerings can.\n",
      "category:  news   subcategory:  newsus   title:  Mark 'Munky' Berman Honored With Memorial Ride: 'My Dad Was A Great Man'   abstract:  Hundreds of bikers from around Colorado gathered for a memorial ride, Saturday, to honor the life of one of their own.\n"
     ]
    }
   ],
   "source": [
    "#without taking average using weighted embbedings news\n",
    "for i in weighted_indices_to_recommend:\n",
    "    print(\"category: \",news_data['category'][i[1]],\"  subcategory: \",news_data['subcategory'][i[1]],'  title: ',news_data['title'][i[1]],'  abstract: ',news_data['abstract'][i[1]])"
   ]
  },
  {
   "cell_type": "code",
   "execution_count": 71,
   "metadata": {},
   "outputs": [
    {
     "name": "stdout",
     "output_type": "stream",
     "text": [
      "category:  news   subcategory:  newsworld   title:  Driver charged with OVI after pickup hits home, pinning girl, injuring another   abstract:  Police are investigating a car that went into a home Thursday night in Kenton County.\n",
      "category:  news   subcategory:  newsus   title:  Motorcyclists find new 'dangerous' way to defiantly beat I-95 traffic   abstract:  It's as if some motorcyclists think the red carpet has been rolled out for them. Traffic is clipping along on I-95 and then seemingly out of nowhere the landscape ahead is a vast sea of red brake lights. But not all travelers are stuck in traffic hell: Some motorcyclists look at the interstate's latest upgrade -- the creation of express lanes, which are set apart with a nice 3-foot-or-so ...\n",
      "category:  news   subcategory:  newsworld   title:  'We will never, ever recover' - victims lash out at suspect in Esplanade crash that killed 2, injured others   abstract:  When Tashonty Toney got behind the wheel of his vehicle on March 2 and plowed into a crowd of bicyclists, killing two and badly injuring others he changed the lives of so many, including himself. Monday, Toney agreed to plead guilty to two counts of vehicular homicide for the deaths of Sharee Walls and David Hynes, ending a dispute over his blood alcohol level at the time of the deadly crash. He will be sentenced Tuesday, but Monday friends and...\n",
      "category:  news   subcategory:  newsworld   title:  Police ID woman, 18, as passenger killed in St. Paul wrong-way crash that injured 8   abstract:  A crash in St. Paul that killed an 18-year-old woman and critically injured others happened when a wrong-way driver struck another car head-on, police said Friday. Paramedics pronounced Sulekha M. Abdi, of St. Peter, Minn., dead at the scene on Thursday night, in what Sgt. Mike Ernster called \"a tragic crash.\" Police said the 29-year-old […]\n",
      "category:  news   subcategory:  newsworld   title:  Brooklyn hit-and-run victim dies after nine-day fight for life, leaving four children behind as cops seek killer driver   abstract:  Vabita Arjune, a home health aide and single parent of four, was always running somewhere. The Brooklyn resident was scooting from the laundromat to the supermarket when a hit-and-run driver plowed in her on Oct. 29, with the Guyanese immigrant finally succumbing to her massive injuries Thursday at Jamaica Hospital -- leaving two sons and two daughters to deal with the heartbreak of ...\n"
     ]
    }
   ],
   "source": [
    "#using average of articles read using weighted news embeddings\n",
    "for i in weighted_distances[:5]:\n",
    "    print(\"category: \",news_data['category'][i[1]],\"  subcategory: \",news_data['subcategory'][i[1]],'  title: ',news_data['title'][i[1]],'  abstract: ',news_data['abstract'][i[1]])"
   ]
  }
 ],
 "metadata": {
  "kernelspec": {
   "display_name": "base",
   "language": "python",
   "name": "python3"
  },
  "language_info": {
   "codemirror_mode": {
    "name": "ipython",
    "version": 3
   },
   "file_extension": ".py",
   "mimetype": "text/x-python",
   "name": "python",
   "nbconvert_exporter": "python",
   "pygments_lexer": "ipython3",
   "version": "3.9.16"
  },
  "orig_nbformat": 4
 },
 "nbformat": 4,
 "nbformat_minor": 2
}
