{
 "cells": [
  {
   "attachments": {},
   "cell_type": "markdown",
   "metadata": {},
   "source": [
    "## Importing necessary libraries"
   ]
  },
  {
   "cell_type": "code",
   "execution_count": 1,
   "metadata": {},
   "outputs": [],
   "source": [
    "import pandas as pd\n",
    "import numpy as np\n",
    "import ast\n",
    "from tqdm import tqdm\n",
    "import random\n",
    "import textwrap\n",
    "random.seed(29)"
   ]
  },
  {
   "attachments": {},
   "cell_type": "markdown",
   "metadata": {},
   "source": [
    "## Reading necessary files"
   ]
  },
  {
   "cell_type": "code",
   "execution_count": 2,
   "metadata": {},
   "outputs": [],
   "source": [
    "# Loading userIDs and newsIDs\n",
    "userId=np.load('userId.npy')\n",
    "newsId=np.load('itemId.npy')\n",
    "\n",
    "# Loading news_embeddings and user_embeddings\n",
    "news_embedding=np.load('news_embeddings_numpy.npy')\n",
    "user_embedding=np.load('user_embedding.npy')"
   ]
  },
  {
   "cell_type": "code",
   "execution_count": 3,
   "metadata": {},
   "outputs": [],
   "source": [
    "# Creating dictionaries for easy code understanding\n",
    "\n",
    "news={}\n",
    "for i in range(len(newsId)):\n",
    "    news[newsId[i]]=news_embedding[i]\n",
    "\n",
    "user={}\n",
    "for i in range(len(userId)):\n",
    "    user[userId[i]]=user_embedding[i]"
   ]
  },
  {
   "cell_type": "code",
   "execution_count": 4,
   "metadata": {},
   "outputs": [],
   "source": [
    "# Cleaning the read file\n",
    "\n",
    "def clean(impList):\n",
    "    return ast.literal_eval(impList)\n",
    "\n",
    "behave = pd.read_csv('behaviours_list.csv')\n",
    "behave['impList'] = behave['impList'].map(clean)\n",
    "behave['clickList'] = behave['clickList'].map(clean)\n",
    "behave['noClickList'] = behave['noClickList'].map(clean)"
   ]
  },
  {
   "cell_type": "code",
   "execution_count": 5,
   "metadata": {},
   "outputs": [
    {
     "data": {
      "text/html": [
       "<div>\n",
       "<style scoped>\n",
       "    .dataframe tbody tr th:only-of-type {\n",
       "        vertical-align: middle;\n",
       "    }\n",
       "\n",
       "    .dataframe tbody tr th {\n",
       "        vertical-align: top;\n",
       "    }\n",
       "\n",
       "    .dataframe thead th {\n",
       "        text-align: right;\n",
       "    }\n",
       "</style>\n",
       "<table border=\"1\" class=\"dataframe\">\n",
       "  <thead>\n",
       "    <tr style=\"text-align: right;\">\n",
       "      <th></th>\n",
       "      <th>itemId</th>\n",
       "      <th>category</th>\n",
       "      <th>subcategory</th>\n",
       "      <th>title</th>\n",
       "      <th>abstract</th>\n",
       "      <th>url</th>\n",
       "      <th>combined</th>\n",
       "      <th>processed</th>\n",
       "      <th>processed2</th>\n",
       "    </tr>\n",
       "  </thead>\n",
       "  <tbody>\n",
       "    <tr>\n",
       "      <th>0</th>\n",
       "      <td>N55528</td>\n",
       "      <td>lifestyle</td>\n",
       "      <td>lifestyleroyals</td>\n",
       "      <td>The Brands Queen Elizabeth, Prince Charles, an...</td>\n",
       "      <td>Shop the notebooks, jackets, and more that the...</td>\n",
       "      <td>https://assets.msn.com/labs/mind/AAGH0ET.html</td>\n",
       "      <td>lifestyle lifestyleroyals The Brands Queen Eli...</td>\n",
       "      <td>['lifestyle', 'lifestyleroyals', 'brand', 'que...</td>\n",
       "      <td>lifestyle lifestyleroyals brand queen elizabet...</td>\n",
       "    </tr>\n",
       "    <tr>\n",
       "      <th>1</th>\n",
       "      <td>N19639</td>\n",
       "      <td>health</td>\n",
       "      <td>weightloss</td>\n",
       "      <td>50 Worst Habits For Belly Fat</td>\n",
       "      <td>These seemingly harmless habits are holding yo...</td>\n",
       "      <td>https://assets.msn.com/labs/mind/AAB19MK.html</td>\n",
       "      <td>health weightloss 50 Worst Habits For Belly Fa...</td>\n",
       "      <td>['health', 'weightloss', 'bad', 'habit', 'bell...</td>\n",
       "      <td>health weightloss bad habit belly fat seemingl...</td>\n",
       "    </tr>\n",
       "    <tr>\n",
       "      <th>2</th>\n",
       "      <td>N61837</td>\n",
       "      <td>news</td>\n",
       "      <td>newsworld</td>\n",
       "      <td>The Cost of Trump's Aid Freeze in the Trenches...</td>\n",
       "      <td>Lt. Ivan Molchanets peeked over a parapet of s...</td>\n",
       "      <td>https://assets.msn.com/labs/mind/AAJgNsz.html</td>\n",
       "      <td>news newsworld The Cost of Trump's Aid Freeze ...</td>\n",
       "      <td>['news', 'newsworld', 'cost', 'trump', 'aid', ...</td>\n",
       "      <td>news newsworld cost trump aid freeze trench uk...</td>\n",
       "    </tr>\n",
       "    <tr>\n",
       "      <th>3</th>\n",
       "      <td>N53526</td>\n",
       "      <td>health</td>\n",
       "      <td>voices</td>\n",
       "      <td>I Was An NBA Wife. Here's How It Affected My M...</td>\n",
       "      <td>I felt like I was a fraud, and being an NBA wi...</td>\n",
       "      <td>https://assets.msn.com/labs/mind/AACk2N6.html</td>\n",
       "      <td>health voices I Was An NBA Wife. Here's How It...</td>\n",
       "      <td>['health', 'voice', 'nba', 'wife', 'affect', '...</td>\n",
       "      <td>health voice nba wife affect mental health fel...</td>\n",
       "    </tr>\n",
       "    <tr>\n",
       "      <th>4</th>\n",
       "      <td>N38324</td>\n",
       "      <td>health</td>\n",
       "      <td>medical</td>\n",
       "      <td>How to Get Rid of Skin Tags, According to a De...</td>\n",
       "      <td>They seem harmless, but there's a very good re...</td>\n",
       "      <td>https://assets.msn.com/labs/mind/AAAKEkt.html</td>\n",
       "      <td>health medical How to Get Rid of Skin Tags, Ac...</td>\n",
       "      <td>['health', 'medical', 'get', 'rid', 'skin', 't...</td>\n",
       "      <td>health medical get rid skin tag accord dermato...</td>\n",
       "    </tr>\n",
       "  </tbody>\n",
       "</table>\n",
       "</div>"
      ],
      "text/plain": [
       "   itemId   category      subcategory  \\\n",
       "0  N55528  lifestyle  lifestyleroyals   \n",
       "1  N19639     health       weightloss   \n",
       "2  N61837       news        newsworld   \n",
       "3  N53526     health           voices   \n",
       "4  N38324     health          medical   \n",
       "\n",
       "                                               title  \\\n",
       "0  The Brands Queen Elizabeth, Prince Charles, an...   \n",
       "1                      50 Worst Habits For Belly Fat   \n",
       "2  The Cost of Trump's Aid Freeze in the Trenches...   \n",
       "3  I Was An NBA Wife. Here's How It Affected My M...   \n",
       "4  How to Get Rid of Skin Tags, According to a De...   \n",
       "\n",
       "                                            abstract  \\\n",
       "0  Shop the notebooks, jackets, and more that the...   \n",
       "1  These seemingly harmless habits are holding yo...   \n",
       "2  Lt. Ivan Molchanets peeked over a parapet of s...   \n",
       "3  I felt like I was a fraud, and being an NBA wi...   \n",
       "4  They seem harmless, but there's a very good re...   \n",
       "\n",
       "                                             url  \\\n",
       "0  https://assets.msn.com/labs/mind/AAGH0ET.html   \n",
       "1  https://assets.msn.com/labs/mind/AAB19MK.html   \n",
       "2  https://assets.msn.com/labs/mind/AAJgNsz.html   \n",
       "3  https://assets.msn.com/labs/mind/AACk2N6.html   \n",
       "4  https://assets.msn.com/labs/mind/AAAKEkt.html   \n",
       "\n",
       "                                            combined  \\\n",
       "0  lifestyle lifestyleroyals The Brands Queen Eli...   \n",
       "1  health weightloss 50 Worst Habits For Belly Fa...   \n",
       "2  news newsworld The Cost of Trump's Aid Freeze ...   \n",
       "3  health voices I Was An NBA Wife. Here's How It...   \n",
       "4  health medical How to Get Rid of Skin Tags, Ac...   \n",
       "\n",
       "                                           processed  \\\n",
       "0  ['lifestyle', 'lifestyleroyals', 'brand', 'que...   \n",
       "1  ['health', 'weightloss', 'bad', 'habit', 'bell...   \n",
       "2  ['news', 'newsworld', 'cost', 'trump', 'aid', ...   \n",
       "3  ['health', 'voice', 'nba', 'wife', 'affect', '...   \n",
       "4  ['health', 'medical', 'get', 'rid', 'skin', 't...   \n",
       "\n",
       "                                          processed2  \n",
       "0  lifestyle lifestyleroyals brand queen elizabet...  \n",
       "1  health weightloss bad habit belly fat seemingl...  \n",
       "2  news newsworld cost trump aid freeze trench uk...  \n",
       "3  health voice nba wife affect mental health fel...  \n",
       "4  health medical get rid skin tag accord dermato...  "
      ]
     },
     "execution_count": 5,
     "metadata": {},
     "output_type": "execute_result"
    }
   ],
   "source": [
    "news_data = pd.read_csv(\"preprocessed_news.csv\")\n",
    "news_data.head()"
   ]
  },
  {
   "attachments": {},
   "cell_type": "markdown",
   "metadata": {},
   "source": [
    "## Models"
   ]
  },
  {
   "cell_type": "code",
   "execution_count": 6,
   "metadata": {},
   "outputs": [],
   "source": [
    "# BPR : Approach 1\n",
    "class BPR1:\n",
    "    def __init__(self, learning_rate=0.01):\n",
    "        self.learning_rate = learning_rate\n",
    "        self.W = np.random.normal(size=(1, 384)) / 100\n",
    "    \n",
    "    def fit(self, interactions, epochs=10):\n",
    "        for epoch in tqdm(range(epochs)):\n",
    "            # Shuffle the interactions\n",
    "            np.random.shuffle(interactions)\n",
    "            count = 0\n",
    "            cost = 0\n",
    "            grad = 0\n",
    "            for u, l, d, label in interactions:\n",
    "                u = u.reshape(-1, 1)\n",
    "                l = l.reshape(-1, 1)\n",
    "                d = d.reshape(-1, 1)\n",
    "                count += 1\n",
    "                if label:\n",
    "                    loss = self.calculate_loss(u, l, d)\n",
    "                    cost += loss\n",
    "                    grad -= (1 - self.calculate_grad(u, l, d)) * (u * (l - d)).T\n",
    "                else:\n",
    "                    loss = self.calculate_loss(u, d, l)\n",
    "                    cost += loss\n",
    "                    grad -= (1 - self.calculate_grad(u, d, l)) * (u * (d - l)).T\n",
    "            \n",
    "            # Gradient descent\n",
    "            self.W -= self.learning_rate * grad / count\n",
    "            \n",
    "            # Printing the cost after each epoch\n",
    "            cost /= count\n",
    "            print(\"Epoch:\", epoch, \"Cost:\", cost)\n",
    "\n",
    "    def calculate_loss(self, u, l, d):\n",
    "        return np.log(1 + np.exp(-np.dot(self.W, u * (l - d))))\n",
    "    \n",
    "    def calculate_grad(self, u, l, d):\n",
    "        return 1 / (1 + np.exp(-np.dot(self.W, u * (l - d))))\n",
    "        \n",
    "    def sigmoid(self, x):\n",
    "        return 1 / (1 + np.exp(-x))\n",
    "    \n",
    "    def predict(self, interactions, ts = 0.5):\n",
    "        # Returns number of (True positives, False positives, False negatives, True negatives)\n",
    "        tp = 0\n",
    "        fp = 0\n",
    "        fn = 0\n",
    "        tn = 0\n",
    "        for u, l, d, label in interactions:\n",
    "            temp = self.calculate_grad(u, l, d)\n",
    "            pred = 1 if temp > ts else 0\n",
    "            if pred == 1:\n",
    "                if label == 1:\n",
    "                    tp += 1\n",
    "                else:\n",
    "                    fp += 1\n",
    "            else:\n",
    "                if label == 1:\n",
    "                    fn += 1\n",
    "                else:\n",
    "                    tn += 1\n",
    "        return (tp, fp, fn, tn)\n",
    "    \n",
    "    def predictOne(self, interactions, ts = 0.5):\n",
    "        # Returns 0 or 1 for a single row\n",
    "        for u, l, d in interactions:\n",
    "            temp = self.calculate_grad(u, l, d)\n",
    "            pred = 1 if temp > ts else 0\n",
    "            return pred"
   ]
  },
  {
   "cell_type": "code",
   "execution_count": 7,
   "metadata": {},
   "outputs": [],
   "source": [
    "# BPR : Approach 2\n",
    "class BPR2:\n",
    "    def __init__(self, dimension=10, learning_rate=0.05):\n",
    "        self.dim = dimension\n",
    "        self.learning_rate = learning_rate\n",
    "        self.Wu = np.random.normal(size=(self.dim, 384)) / 1000\n",
    "        self.Wa = np.random.normal(size=(self.dim, 384)) / 1000\n",
    "    \n",
    "    def fit(self, interactions, epochs=10):\n",
    "        for epoch in tqdm(range(epochs)):\n",
    "            # Shuffle the interactions\n",
    "            np.random.shuffle(interactions)\n",
    "            count = 0\n",
    "            uSum = 0\n",
    "            aSum = 0\n",
    "            cost = 0\n",
    "                        \n",
    "            for u, l, d, label in interactions:\n",
    "                u = u.reshape(-1, 1)\n",
    "                l = l.reshape(-1, 1)\n",
    "                d = d.reshape(-1, 1)\n",
    "                \n",
    "                uc = np.dot(self.Wu, u)\n",
    "                lc = np.dot(self.Wa, l)\n",
    "                dc = np.dot(self.Wa, d)\n",
    "                \n",
    "                count += 1\n",
    "                if label:\n",
    "                    cost += self.calculate_loss(uc, lc, dc)\n",
    "                    temp = self.calculate_grad(uc, lc, dc)\n",
    "                    uSum += - (1 - temp) * np.dot(lc - dc, u.T)\n",
    "                    aSum += - (1 - temp) * np.dot(uc, (l - d).T)\n",
    "                else:\n",
    "                    cost += self.calculate_loss(uc, dc, lc)\n",
    "                    temp = self.calculate_grad(uc, dc, lc)\n",
    "                    uSum += - (1 - temp) * np.dot(dc - lc, u.T)\n",
    "                    aSum += - (1 - temp) * np.dot(uc, (d - l).T)\n",
    "\n",
    "            # Gradient descent\n",
    "            self.Wu -= self.learning_rate * uSum / count\n",
    "            self.Wa -= self.learning_rate * aSum / count\n",
    "            \n",
    "            # Print the cost after each epoch\n",
    "            cost /= count\n",
    "            print(\"Epoch:\", epoch, \"Cost:\", cost)\n",
    "\n",
    "    def sigmoid(self, x):\n",
    "        return 1 / (1 + np.exp(-x))\n",
    "    \n",
    "    def calculate_loss(self, u, l, d):\n",
    "        return np.log(1 + np.exp(-np.dot(u.T, l - d)))\n",
    "    \n",
    "    def calculate_grad(self, u, l, d):\n",
    "        return 1 / (1 + np.exp(-np.dot(u.T, l - d)))\n",
    "    \n",
    "    def predict(self, interactions, ts = 0.5):\n",
    "        # Returns number of (True positives, False positives, False negatives, True negatives)\n",
    "        tp = 0\n",
    "        fp = 0\n",
    "        fn = 0\n",
    "        tn = 0\n",
    "        for u, l, d, label in interactions:\n",
    "            temp = self.sigmoid(np.dot(np.dot(self.Wu, u), np.dot(self.Wa, l - d)))\n",
    "            pred = 1 if temp > ts else 0\n",
    "            if pred == 1:\n",
    "                if label == 1:\n",
    "                    tp += 1\n",
    "                else:\n",
    "                    fp += 1\n",
    "            else:\n",
    "                if label == 1:\n",
    "                    fn += 1\n",
    "                else:\n",
    "                    tn += 1\n",
    "        return (tp, fp, fn, tn)\n",
    "    \n",
    "    def predictOne(self, interactions, ts = 0.5):\n",
    "        # Returns 0 or 1 for a single row\n",
    "        for u, l, d in interactions:\n",
    "            temp = self.sigmoid(np.dot(np.dot(self.Wu, u), np.dot(self.Wa, l - d)))\n",
    "            pred = 1 if temp > ts else 0\n",
    "            return pred"
   ]
  },
  {
   "attachments": {},
   "cell_type": "markdown",
   "metadata": {},
   "source": [
    "## Helper Functions"
   ]
  },
  {
   "cell_type": "code",
   "execution_count": 8,
   "metadata": {},
   "outputs": [],
   "source": [
    "\n",
    "# Function for creating dataset in the required format\n",
    "def createData(IDList):\n",
    "    interactions = []\n",
    "    for id in IDList:\n",
    "        usd = behave[behave.userId == id]\n",
    "        for i in list(usd.index.values):\n",
    "            for j in usd['clickList'][i]:\n",
    "                for k in usd['noClickList'][i]:\n",
    "                    label = random.randint(0, 1)\n",
    "                    if label: \n",
    "                        interactions.append([user[id], news[j], news[k], label])\n",
    "                    else:\n",
    "                        interactions.append([user[id], news[k], news[j], label])\n",
    "    return interactions\n",
    "\n",
    "# Function for displaying recommendations\n",
    "def displayBPR(display_list):\n",
    "    for article in display_list:\n",
    "        temp = news_data[news_data['itemId'] == article][[\"itemId\", 'title', 'abstract', \"category\"]]\n",
    "        for i in temp.index.values:\n",
    "            print(\"\\t\", temp[\"itemId\"][i], \"\\t\", temp[\"category\"][i], \"\\t\", temp[\"title\"][i])\n",
    "            abstractText = \"\\t\\t\\t\\t\" + temp[\"abstract\"][i]\n",
    "            print('\\n\\t\\t\\t\\t'.join(textwrap.wrap(abstractText, 60, break_long_words=False)))\n",
    "            print()\n",
    "            \n",
    "# Ranks articles for a specific user\n",
    "def rankArticles(model, ts, username, setSize, displaySize):\n",
    "    rank_list={}\n",
    "    \n",
    "    for i in range(len(newsId[:setSize])):\n",
    "        rank_list[newsId[i]] = 0\n",
    "            \n",
    "    for i in range(len(newsId[:setSize])):\n",
    "        for j in range(i + 1, len(newsId[:setSize])):\n",
    "            score = model.predictOne([[user[username], news[newsId[i]], news[newsId[j]]]], ts)\n",
    "            rank_list[newsId[i]] += score\n",
    "            rank_list[newsId[j]] += 1 - score\n",
    "        \n",
    "    keys = list(rank_list.keys())\n",
    "    values = list(rank_list.values())\n",
    "    sorted_value_index = np.argsort(values)\n",
    "    key_list = [keys[i] for i in sorted_value_index]\n",
    "    values_list = [values[i] for i in sorted_value_index]\n",
    "    key_list.reverse()\n",
    "    displayBPR(key_list[:displaySize])"
   ]
  },
  {
   "cell_type": "code",
   "execution_count": 9,
   "metadata": {},
   "outputs": [],
   "source": [
    "# Functions for calculating accuracy metrics\n",
    "\n",
    "def calculatePrecision(numbers):\n",
    "    return numbers[0] / (numbers[0] + numbers[1])\n",
    "\n",
    "def calculateRecall(numbers):\n",
    "    return numbers[0] / (numbers[0] + numbers[2])\n",
    "\n",
    "def calculateSpecificity(numbers):\n",
    "    return numbers[3] / (numbers[3] + numbers[1])\n",
    "\n",
    "def calculateF1Score(precision, recall):\n",
    "    return 2 * precision * recall / (precision + recall)\n",
    "\n",
    "def calculateMetrics(pred):\n",
    "    precision = calculatePrecision(pred)\n",
    "    recall = calculateRecall(pred)\n",
    "    specificity = calculateSpecificity(pred)\n",
    "    f1_score = calculateF1Score(precision, recall)\n",
    "    print(\"Precision = \", precision)\n",
    "    print(\"Recall = \", recall)\n",
    "    print(\"Specificity = \", specificity)\n",
    "    print(\"F1 score = \", f1_score)"
   ]
  },
  {
   "attachments": {},
   "cell_type": "markdown",
   "metadata": {},
   "source": [
    "## Datsets Generation"
   ]
  },
  {
   "cell_type": "code",
   "execution_count": 42,
   "metadata": {},
   "outputs": [],
   "source": [
    "IDList = []\n",
    "# IDList = ['U7854', 'U5452', 'U3258', 'U25463', 'U9494', 'U9849', 'U9704', 'U9946', 'U63660', 'U8332']\n",
    "\n",
    "# Below 250 signifies rows corresponding to 250 different random users are made in the train dataset\n",
    "IDList.extend(list(np.random.choice(userId, size = 250)))\n",
    "trainDataset = createData(IDList)"
   ]
  },
  {
   "cell_type": "code",
   "execution_count": 43,
   "metadata": {},
   "outputs": [],
   "source": [
    "testList = []\n",
    "\n",
    "# Below 250 signifies rows corresponding to 120 different random users are made in the test dataset\n",
    "testList.extend(list(np.random.choice(userId, size = 120)))\n",
    "testDataset = createData(testList)"
   ]
  },
  {
   "cell_type": "code",
   "execution_count": 44,
   "metadata": {},
   "outputs": [
    {
     "data": {
      "text/plain": [
       "51567"
      ]
     },
     "execution_count": 44,
     "metadata": {},
     "output_type": "execute_result"
    }
   ],
   "source": [
    "# Number of rows in train dataset\n",
    "trainDataset.__len__()"
   ]
  },
  {
   "cell_type": "code",
   "execution_count": 45,
   "metadata": {},
   "outputs": [
    {
     "data": {
      "text/plain": [
       "22487"
      ]
     },
     "execution_count": 45,
     "metadata": {},
     "output_type": "execute_result"
    }
   ],
   "source": [
    "# Number of rows in test dataset\n",
    "testDataset.__len__()"
   ]
  },
  {
   "attachments": {},
   "cell_type": "markdown",
   "metadata": {},
   "source": [
    "## Training models"
   ]
  },
  {
   "cell_type": "code",
   "execution_count": 46,
   "metadata": {},
   "outputs": [
    {
     "name": "stderr",
     "output_type": "stream",
     "text": [
      "  5%|▌         | 1/20 [00:01<00:22,  1.17s/it]"
     ]
    },
    {
     "name": "stdout",
     "output_type": "stream",
     "text": [
      "Epoch: 0 Cost: [[0.69727404]]\n"
     ]
    },
    {
     "name": "stderr",
     "output_type": "stream",
     "text": [
      " 10%|█         | 2/20 [00:02<00:20,  1.15s/it]"
     ]
    },
    {
     "name": "stdout",
     "output_type": "stream",
     "text": [
      "Epoch: 1 Cost: [[0.68531465]]\n"
     ]
    },
    {
     "name": "stderr",
     "output_type": "stream",
     "text": [
      " 15%|█▌        | 3/20 [00:03<00:18,  1.12s/it]"
     ]
    },
    {
     "name": "stdout",
     "output_type": "stream",
     "text": [
      "Epoch: 2 Cost: [[0.67565285]]\n"
     ]
    },
    {
     "name": "stderr",
     "output_type": "stream",
     "text": [
      " 20%|██        | 4/20 [00:04<00:17,  1.09s/it]"
     ]
    },
    {
     "name": "stdout",
     "output_type": "stream",
     "text": [
      "Epoch: 3 Cost: [[0.66767741]]\n"
     ]
    },
    {
     "name": "stderr",
     "output_type": "stream",
     "text": [
      " 25%|██▌       | 5/20 [00:05<00:15,  1.06s/it]"
     ]
    },
    {
     "name": "stdout",
     "output_type": "stream",
     "text": [
      "Epoch: 4 Cost: [[0.66094791]]\n"
     ]
    },
    {
     "name": "stderr",
     "output_type": "stream",
     "text": [
      " 30%|███       | 6/20 [00:06<00:15,  1.09s/it]"
     ]
    },
    {
     "name": "stdout",
     "output_type": "stream",
     "text": [
      "Epoch: 5 Cost: [[0.65515679]]\n"
     ]
    },
    {
     "name": "stderr",
     "output_type": "stream",
     "text": [
      " 35%|███▌      | 7/20 [00:07<00:14,  1.09s/it]"
     ]
    },
    {
     "name": "stdout",
     "output_type": "stream",
     "text": [
      "Epoch: 6 Cost: [[0.6500891]]\n"
     ]
    },
    {
     "name": "stderr",
     "output_type": "stream",
     "text": [
      " 40%|████      | 8/20 [00:08<00:12,  1.08s/it]"
     ]
    },
    {
     "name": "stdout",
     "output_type": "stream",
     "text": [
      "Epoch: 7 Cost: [[0.64559219]]\n"
     ]
    },
    {
     "name": "stderr",
     "output_type": "stream",
     "text": [
      " 45%|████▌     | 9/20 [00:09<00:11,  1.06s/it]"
     ]
    },
    {
     "name": "stdout",
     "output_type": "stream",
     "text": [
      "Epoch: 8 Cost: [[0.64155525]]\n"
     ]
    },
    {
     "name": "stderr",
     "output_type": "stream",
     "text": [
      " 50%|█████     | 10/20 [00:10<00:11,  1.10s/it]"
     ]
    },
    {
     "name": "stdout",
     "output_type": "stream",
     "text": [
      "Epoch: 9 Cost: [[0.63789596]]\n"
     ]
    },
    {
     "name": "stderr",
     "output_type": "stream",
     "text": [
      " 55%|█████▌    | 11/20 [00:12<00:09,  1.10s/it]"
     ]
    },
    {
     "name": "stdout",
     "output_type": "stream",
     "text": [
      "Epoch: 10 Cost: [[0.63455177]]\n"
     ]
    },
    {
     "name": "stderr",
     "output_type": "stream",
     "text": [
      " 60%|██████    | 12/20 [00:13<00:08,  1.12s/it]"
     ]
    },
    {
     "name": "stdout",
     "output_type": "stream",
     "text": [
      "Epoch: 11 Cost: [[0.63147422]]\n"
     ]
    },
    {
     "name": "stderr",
     "output_type": "stream",
     "text": [
      " 65%|██████▌   | 13/20 [00:14<00:07,  1.12s/it]"
     ]
    },
    {
     "name": "stdout",
     "output_type": "stream",
     "text": [
      "Epoch: 12 Cost: [[0.62862503]]\n"
     ]
    },
    {
     "name": "stderr",
     "output_type": "stream",
     "text": [
      " 70%|███████   | 14/20 [00:15<00:06,  1.10s/it]"
     ]
    },
    {
     "name": "stdout",
     "output_type": "stream",
     "text": [
      "Epoch: 13 Cost: [[0.6259735]]\n"
     ]
    },
    {
     "name": "stderr",
     "output_type": "stream",
     "text": [
      " 75%|███████▌  | 15/20 [00:16<00:05,  1.09s/it]"
     ]
    },
    {
     "name": "stdout",
     "output_type": "stream",
     "text": [
      "Epoch: 14 Cost: [[0.62349463]]\n"
     ]
    },
    {
     "name": "stderr",
     "output_type": "stream",
     "text": [
      " 80%|████████  | 16/20 [00:17<00:04,  1.07s/it]"
     ]
    },
    {
     "name": "stdout",
     "output_type": "stream",
     "text": [
      "Epoch: 15 Cost: [[0.62116783]]\n"
     ]
    },
    {
     "name": "stderr",
     "output_type": "stream",
     "text": [
      " 85%|████████▌ | 17/20 [00:18<00:03,  1.08s/it]"
     ]
    },
    {
     "name": "stdout",
     "output_type": "stream",
     "text": [
      "Epoch: 16 Cost: [[0.61897592]]\n"
     ]
    },
    {
     "name": "stderr",
     "output_type": "stream",
     "text": [
      " 90%|█████████ | 18/20 [00:19<00:02,  1.09s/it]"
     ]
    },
    {
     "name": "stdout",
     "output_type": "stream",
     "text": [
      "Epoch: 17 Cost: [[0.61690445]]\n"
     ]
    },
    {
     "name": "stderr",
     "output_type": "stream",
     "text": [
      " 95%|█████████▌| 19/20 [00:20<00:01,  1.07s/it]"
     ]
    },
    {
     "name": "stdout",
     "output_type": "stream",
     "text": [
      "Epoch: 18 Cost: [[0.61494114]]\n"
     ]
    },
    {
     "name": "stderr",
     "output_type": "stream",
     "text": [
      "100%|██████████| 20/20 [00:21<00:00,  1.09s/it]"
     ]
    },
    {
     "name": "stdout",
     "output_type": "stream",
     "text": [
      "Epoch: 19 Cost: [[0.61307548]]\n"
     ]
    },
    {
     "name": "stderr",
     "output_type": "stream",
     "text": [
      "\n"
     ]
    }
   ],
   "source": [
    "# Approach 1\n",
    "model1 = BPR1()\n",
    "model1.fit(trainDataset, epochs = 20)"
   ]
  },
  {
   "cell_type": "code",
   "execution_count": 47,
   "metadata": {},
   "outputs": [
    {
     "name": "stderr",
     "output_type": "stream",
     "text": [
      " 10%|█         | 1/10 [00:02<00:19,  2.18s/it]"
     ]
    },
    {
     "name": "stdout",
     "output_type": "stream",
     "text": [
      "Epoch: 0 Cost: [[0.6931278]]\n"
     ]
    },
    {
     "name": "stderr",
     "output_type": "stream",
     "text": [
      " 20%|██        | 2/10 [00:04<00:16,  2.09s/it]"
     ]
    },
    {
     "name": "stdout",
     "output_type": "stream",
     "text": [
      "Epoch: 1 Cost: [[0.69285831]]\n"
     ]
    },
    {
     "name": "stderr",
     "output_type": "stream",
     "text": [
      " 30%|███       | 3/10 [00:06<00:14,  2.09s/it]"
     ]
    },
    {
     "name": "stdout",
     "output_type": "stream",
     "text": [
      "Epoch: 2 Cost: [[0.69237312]]\n"
     ]
    },
    {
     "name": "stderr",
     "output_type": "stream",
     "text": [
      " 40%|████      | 4/10 [00:08<00:12,  2.08s/it]"
     ]
    },
    {
     "name": "stdout",
     "output_type": "stream",
     "text": [
      "Epoch: 3 Cost: [[0.69119686]]\n"
     ]
    },
    {
     "name": "stderr",
     "output_type": "stream",
     "text": [
      " 50%|█████     | 5/10 [00:10<00:10,  2.06s/it]"
     ]
    },
    {
     "name": "stdout",
     "output_type": "stream",
     "text": [
      "Epoch: 4 Cost: [[0.68824873]]\n"
     ]
    },
    {
     "name": "stderr",
     "output_type": "stream",
     "text": [
      " 60%|██████    | 6/10 [00:12<00:08,  2.09s/it]"
     ]
    },
    {
     "name": "stdout",
     "output_type": "stream",
     "text": [
      "Epoch: 5 Cost: [[0.68138844]]\n"
     ]
    },
    {
     "name": "stderr",
     "output_type": "stream",
     "text": [
      " 70%|███████   | 7/10 [00:14<00:06,  2.07s/it]"
     ]
    },
    {
     "name": "stdout",
     "output_type": "stream",
     "text": [
      "Epoch: 6 Cost: [[0.66879739]]\n"
     ]
    },
    {
     "name": "stderr",
     "output_type": "stream",
     "text": [
      " 80%|████████  | 8/10 [00:16<00:04,  2.09s/it]"
     ]
    },
    {
     "name": "stdout",
     "output_type": "stream",
     "text": [
      "Epoch: 7 Cost: [[0.65385482]]\n"
     ]
    },
    {
     "name": "stderr",
     "output_type": "stream",
     "text": [
      " 90%|█████████ | 9/10 [00:18<00:02,  2.07s/it]"
     ]
    },
    {
     "name": "stdout",
     "output_type": "stream",
     "text": [
      "Epoch: 8 Cost: [[0.64070259]]\n"
     ]
    },
    {
     "name": "stderr",
     "output_type": "stream",
     "text": [
      "100%|██████████| 10/10 [00:20<00:00,  2.08s/it]"
     ]
    },
    {
     "name": "stdout",
     "output_type": "stream",
     "text": [
      "Epoch: 9 Cost: [[0.62941275]]\n"
     ]
    },
    {
     "name": "stderr",
     "output_type": "stream",
     "text": [
      "\n"
     ]
    }
   ],
   "source": [
    "# Approach 2\n",
    "model2 = BPR2(dimension = 10)\n",
    "model2.fit(trainDataset, epochs = 10)"
   ]
  },
  {
   "attachments": {},
   "cell_type": "markdown",
   "metadata": {},
   "source": [
    "## Train Accuracy Metrics"
   ]
  },
  {
   "cell_type": "code",
   "execution_count": 48,
   "metadata": {},
   "outputs": [
    {
     "name": "stdout",
     "output_type": "stream",
     "text": [
      "Precision =  0.6027899150541428\n",
      "Recall =  0.8564102564102564\n",
      "Specificity =  0.4289950062421973\n",
      "F1 score =  0.7075594915740181\n"
     ]
    }
   ],
   "source": [
    "# Approach 1\n",
    "y_pred_1 = model1.predict(trainDataset, ts = 0.457)\n",
    "calculateMetrics(y_pred_1)"
   ]
  },
  {
   "cell_type": "code",
   "execution_count": 49,
   "metadata": {},
   "outputs": [
    {
     "name": "stdout",
     "output_type": "stream",
     "text": [
      "Precision =  0.56934078855799\n",
      "Recall =  0.9147869674185464\n",
      "Specificity =  0.29985955056179775\n",
      "F1 score =  0.701860781587433\n"
     ]
    }
   ],
   "source": [
    "# Approach 2\n",
    "y_pred_2 = model2.predict(trainDataset, ts = 0.418)\n",
    "calculateMetrics(y_pred_2)"
   ]
  },
  {
   "attachments": {},
   "cell_type": "markdown",
   "metadata": {},
   "source": [
    "## Test Accuracy Metrics"
   ]
  },
  {
   "cell_type": "code",
   "execution_count": 50,
   "metadata": {},
   "outputs": [
    {
     "name": "stdout",
     "output_type": "stream",
     "text": [
      "Precision =  0.5561282589151932\n",
      "Recall =  0.8200618647812639\n",
      "Specificity =  0.33709273182957394\n",
      "F1 score =  0.6627857142857142\n"
     ]
    }
   ],
   "source": [
    "# Approach 1\n",
    "y_pred_1_t = model1.predict(testDataset, ts = 0.457)\n",
    "calculateMetrics(y_pred_1_t)"
   ]
  },
  {
   "cell_type": "code",
   "execution_count": 51,
   "metadata": {},
   "outputs": [
    {
     "name": "stdout",
     "output_type": "stream",
     "text": [
      "Precision =  0.5177111716621253\n",
      "Recall =  0.8563853292090146\n",
      "Specificity =  0.19199785177228787\n",
      "F1 score =  0.6453116675546083\n"
     ]
    }
   ],
   "source": [
    "# Approach 2\n",
    "y_pred_2_t = model2.predict(testDataset, ts = 0.418)\n",
    "calculateMetrics(y_pred_2_t)"
   ]
  },
  {
   "attachments": {},
   "cell_type": "markdown",
   "metadata": {},
   "source": [
    "## Ranking Articles for a user"
   ]
  },
  {
   "attachments": {},
   "cell_type": "markdown",
   "metadata": {},
   "source": [
    "Articles are ranked from a set that has first 'setSize' number of articles of news. 'displaySize' top ranked articles for a user ('username') are displayed."
   ]
  },
  {
   "cell_type": "code",
   "execution_count": 52,
   "metadata": {},
   "outputs": [
    {
     "name": "stdout",
     "output_type": "stream",
     "text": [
      "\t N55528 \t lifestyle \t The Brands Queen Elizabeth, Prince Charles, and Prince Philip Swear By\n",
      "                                Shop the notebooks, jackets,\n",
      "\t\t\t\tand more that the royals can't live without.\n",
      "\n",
      "\t N19639 \t health \t 50 Worst Habits For Belly Fat\n",
      "                                These seemingly harmless\n",
      "\t\t\t\thabits are holding you back and keeping you from shedding\n",
      "\t\t\t\tthat unwanted belly fat for good.\n",
      "\n",
      "\t N61837 \t news \t The Cost of Trump's Aid Freeze in the Trenches of Ukraine's War\n",
      "                                Lt. Ivan Molchanets peeked\n",
      "\t\t\t\tover a parapet of sand bags at the front line of the war in\n",
      "\t\t\t\tUkraine. Next to him was an empty helmet propped up to trick\n",
      "\t\t\t\tsnipers, already perforated with multiple holes.\n",
      "\n",
      "\t N53526 \t health \t I Was An NBA Wife. Here's How It Affected My Mental Health.\n",
      "                                I felt like I was a fraud,\n",
      "\t\t\t\tand being an NBA wife didn't help that. In fact, it nearly\n",
      "\t\t\t\tdestroyed me.\n",
      "\n",
      "\t N49186 \t weather \t It's been Orlando's hottest October ever so far, but cooler temperatures on the way\n",
      "                                There won't be a chill down\n",
      "\t\t\t\tto your bones this Halloween in Orlando, unless you count\n",
      "\t\t\t\tthe sweat dripping from your armpits.\n",
      "\n",
      "\t N59295 \t news \t Chile: Three die in supermarket fire amid protests\n",
      "                                Three people have died in a\n",
      "\t\t\t\tsupermarket fire as angry protests in Chile entered their\n",
      "\t\t\t\tseventh day, the mayor of capital city Santiago said on\n",
      "\t\t\t\tSunday.\n",
      "\n",
      "\t N60905 \t autos \t Trying to Make a Ram 3500 as Quick as a Viper Requires Some Disassembly\n",
      "                                The 2019 Ram 3500's new\n",
      "\t\t\t\tCummins diesel has 1000 lb-ft of torque. We put it to work\n",
      "\t\t\t\ton the drag strip.\n",
      "\n",
      "\t N38324 \t health \t How to Get Rid of Skin Tags, According to a Dermatologist\n",
      "                                They seem harmless, but\n",
      "\t\t\t\tthere's a very good reason you shouldn't ignore them. The\n",
      "\t\t\t\tpost How to Get Rid of Skin Tags, According to a\n",
      "\t\t\t\tDermatologist appeared first on Reader's Digest.\n",
      "\n",
      "\t N2073 \t sports \t Should NFL be able to fine players for criticizing officiating?\n",
      "                                Several fines came down\n",
      "\t\t\t\tagainst NFL players for criticizing officiating this week.\n",
      "\t\t\t\tIt's a very bad look for the league.\n",
      "\n",
      "\t N39237 \t news \t How to report weather-related closings, delays\n",
      "                                When there are active\n",
      "\t\t\t\tclosings, view them here. WXII 12 News receives a number of\n",
      "\t\t\t\tphone calls and e-mails from viewers with questions. Sign up\n",
      "\t\t\t\tfor our Newsletters To report a closure, please visit\n",
      "\t\t\t\twxii.reportclosing.com The weather closing system is a\n",
      "\t\t\t\tviewer-operated system. Employees of WXII-TV and WXII12.com\n",
      "\t\t\t\tDO NOT enter the information in the system. That comes\n",
      "\t\t\t\tstraight from the school/business/institution. Before you\n",
      "\t\t\t\tcan enter information,...\n",
      "\n"
     ]
    }
   ],
   "source": [
    "# Approach 1\n",
    "rankArticles(model1, 0.457, username = 'U8125', setSize = 100, displaySize = 10)"
   ]
  },
  {
   "cell_type": "code",
   "execution_count": 53,
   "metadata": {},
   "outputs": [
    {
     "name": "stdout",
     "output_type": "stream",
     "text": [
      "\t N55528 \t lifestyle \t The Brands Queen Elizabeth, Prince Charles, and Prince Philip Swear By\n",
      "                                Shop the notebooks, jackets,\n",
      "\t\t\t\tand more that the royals can't live without.\n",
      "\n",
      "\t N19639 \t health \t 50 Worst Habits For Belly Fat\n",
      "                                These seemingly harmless\n",
      "\t\t\t\thabits are holding you back and keeping you from shedding\n",
      "\t\t\t\tthat unwanted belly fat for good.\n",
      "\n",
      "\t N61837 \t news \t The Cost of Trump's Aid Freeze in the Trenches of Ukraine's War\n",
      "                                Lt. Ivan Molchanets peeked\n",
      "\t\t\t\tover a parapet of sand bags at the front line of the war in\n",
      "\t\t\t\tUkraine. Next to him was an empty helmet propped up to trick\n",
      "\t\t\t\tsnipers, already perforated with multiple holes.\n",
      "\n",
      "\t N53526 \t health \t I Was An NBA Wife. Here's How It Affected My Mental Health.\n",
      "                                I felt like I was a fraud,\n",
      "\t\t\t\tand being an NBA wife didn't help that. In fact, it nearly\n",
      "\t\t\t\tdestroyed me.\n",
      "\n",
      "\t N38324 \t health \t How to Get Rid of Skin Tags, According to a Dermatologist\n",
      "                                They seem harmless, but\n",
      "\t\t\t\tthere's a very good reason you shouldn't ignore them. The\n",
      "\t\t\t\tpost How to Get Rid of Skin Tags, According to a\n",
      "\t\t\t\tDermatologist appeared first on Reader's Digest.\n",
      "\n",
      "\t N2073 \t sports \t Should NFL be able to fine players for criticizing officiating?\n",
      "                                Several fines came down\n",
      "\t\t\t\tagainst NFL players for criticizing officiating this week.\n",
      "\t\t\t\tIt's a very bad look for the league.\n",
      "\n",
      "\t N49186 \t weather \t It's been Orlando's hottest October ever so far, but cooler temperatures on the way\n",
      "                                There won't be a chill down\n",
      "\t\t\t\tto your bones this Halloween in Orlando, unless you count\n",
      "\t\t\t\tthe sweat dripping from your armpits.\n",
      "\n",
      "\t N59295 \t news \t Chile: Three die in supermarket fire amid protests\n",
      "                                Three people have died in a\n",
      "\t\t\t\tsupermarket fire as angry protests in Chile entered their\n",
      "\t\t\t\tseventh day, the mayor of capital city Santiago said on\n",
      "\t\t\t\tSunday.\n",
      "\n",
      "\t N24510 \t entertainment \t Best PS5 games: top PlayStation 5 titles to look forward to\n",
      "                                Every confirmed or expected\n",
      "\t\t\t\tPS5 game we can't wait to play\n",
      "\n",
      "\t N39237 \t news \t How to report weather-related closings, delays\n",
      "                                When there are active\n",
      "\t\t\t\tclosings, view them here. WXII 12 News receives a number of\n",
      "\t\t\t\tphone calls and e-mails from viewers with questions. Sign up\n",
      "\t\t\t\tfor our Newsletters To report a closure, please visit\n",
      "\t\t\t\twxii.reportclosing.com The weather closing system is a\n",
      "\t\t\t\tviewer-operated system. Employees of WXII-TV and WXII12.com\n",
      "\t\t\t\tDO NOT enter the information in the system. That comes\n",
      "\t\t\t\tstraight from the school/business/institution. Before you\n",
      "\t\t\t\tcan enter information,...\n",
      "\n"
     ]
    }
   ],
   "source": [
    "# Approach 2\n",
    "rankArticles(model2, 0.418, username = 'U8125', setSize = 100, displaySize = 10)"
   ]
  },
  {
   "attachments": {},
   "cell_type": "markdown",
   "metadata": {},
   "source": [
    "## Plotting ROC curves"
   ]
  },
  {
   "cell_type": "code",
   "execution_count": 64,
   "metadata": {},
   "outputs": [],
   "source": [
    "import matplotlib.pyplot as plt\n",
    "\n",
    "# Plots ROC curve and prints are under it\n",
    "def plotROC(model, dataset, text):\n",
    "    def calculateArea(rx, ry):\n",
    "        area = 0.5 * rx[0] * ry[0]\n",
    "        count = len(rx)\n",
    "        for i in range(count - 1):\n",
    "            dA = 0.5 * (rx[i + 1] - rx[i]) * (ry[i] + ry[i + 1])\n",
    "            area += dA\n",
    "        return area\n",
    "\n",
    "    x = []\n",
    "    y = []\n",
    "    \n",
    "    for ts in tqdm(range(0, 10, 1)):\n",
    "        y_pred = model.predict(dataset, ts / 10)\n",
    "        specificity = calculateSpecificity(y_pred)\n",
    "        recall = calculateRecall(y_pred)\n",
    "        x.append(1 - specificity)\n",
    "        y.append(recall)\n",
    "    x.reverse()\n",
    "    y.reverse()    \n",
    "    plt.plot(x, y, color = 'red')\n",
    "    rx = np.arange(0, 1.1, 0.1)\n",
    "    ry = np.arange(0, 1.1, 0.1)\n",
    "    plt.plot(rx, ry, color='black')\n",
    "    plt.fill_between(x, y)\n",
    "    plt.title(f'ROC {text} : AUC = {calculateArea(x, y)}')\n",
    "    plt.xlabel(\"1 - Specificity\", fontsize = 10)\n",
    "    plt.ylabel(\"Recall\",fontsize = 10)\n",
    "    plt.show()"
   ]
  },
  {
   "attachments": {},
   "cell_type": "markdown",
   "metadata": {},
   "source": [
    "### Train dataset"
   ]
  },
  {
   "cell_type": "code",
   "execution_count": 65,
   "metadata": {},
   "outputs": [
    {
     "name": "stderr",
     "output_type": "stream",
     "text": [
      "100%|██████████| 10/10 [00:04<00:00,  2.45it/s]\n"
     ]
    },
    {
     "data": {
      "image/png": "[encoded data removed]",
      "text/plain": [
       "<Figure size 432x288 with 1 Axes>"
      ]
     },
     "metadata": {
      "needs_background": "light"
     },
     "output_type": "display_data"
    }
   ],
   "source": [
    "# Approach 1\n",
    "plotROC(model1, trainDataset, 'A1 Train')"
   ]
  },
  {
   "cell_type": "code",
   "execution_count": 66,
   "metadata": {},
   "outputs": [
    {
     "name": "stderr",
     "output_type": "stream",
     "text": [
      "100%|██████████| 10/10 [00:04<00:00,  2.29it/s]\n"
     ]
    },
    {
     "data": {
      "image/png": "[encoded data removed]",
      "text/plain": [
       "<Figure size 432x288 with 1 Axes>"
      ]
     },
     "metadata": {
      "needs_background": "light"
     },
     "output_type": "display_data"
    }
   ],
   "source": [
    "# Approach 2\n",
    "plotROC(model2, trainDataset, 'A2 Train')"
   ]
  },
  {
   "attachments": {},
   "cell_type": "markdown",
   "metadata": {},
   "source": [
    "### Test dataset"
   ]
  },
  {
   "cell_type": "code",
   "execution_count": 67,
   "metadata": {},
   "outputs": [
    {
     "name": "stderr",
     "output_type": "stream",
     "text": [
      "100%|██████████| 10/10 [00:01<00:00,  6.11it/s]\n"
     ]
    },
    {
     "data": {
      "image/png": "[encoded data removed]",
      "text/plain": [
       "<Figure size 432x288 with 1 Axes>"
      ]
     },
     "metadata": {
      "needs_background": "light"
     },
     "output_type": "display_data"
    }
   ],
   "source": [
    "# Approach 1\n",
    "plotROC(model1, testDataset, 'A1 Test')"
   ]
  },
  {
   "cell_type": "code",
   "execution_count": 68,
   "metadata": {},
   "outputs": [
    {
     "name": "stderr",
     "output_type": "stream",
     "text": [
      "100%|██████████| 10/10 [00:01<00:00,  5.99it/s]\n"
     ]
    },
    {
     "data": {
      "image/png": "[encoded data removed]",
      "text/plain": [
       "<Figure size 432x288 with 1 Axes>"
      ]
     },
     "metadata": {
      "needs_background": "light"
     },
     "output_type": "display_data"
    }
   ],
   "source": [
    "# Approach 2\n",
    "plotROC(model2, testDataset, 'A2 Test')"
   ]
  }
 ],
 "metadata": {
  "kernelspec": {
   "display_name": "base",
   "language": "python",
   "name": "python3"
  },
  "language_info": {
   "codemirror_mode": {
    "name": "ipython",
    "version": 3
   },
   "file_extension": ".py",
   "mimetype": "text/x-python",
   "name": "python",
   "nbconvert_exporter": "python",
   "pygments_lexer": "ipython3",
   "version": "3.9.13"
  },
  "orig_nbformat": 4
 },
 "nbformat": 4,
 "nbformat_minor": 2
}
