{
 "cells": [
  {
   "cell_type": "code",
   "execution_count": 1,
   "metadata": {},
   "outputs": [],
   "source": [
    "import pandas as pd\n",
    "import numpy as np"
   ]
  },
  {
   "cell_type": "code",
   "execution_count": 2,
   "metadata": {},
   "outputs": [],
   "source": [
    "userId=np.load('userId.npy')\n",
    "userEmbedding=np.load('user_embedding.npy')\n",
    "newsId=np.load('itemId.npy')\n",
    "newsEmbedding=np.load('news_embeddings_numpy.npy')\n",
    "news_data=pd.read_csv('preprocessed_news.csv')"
   ]
  },
  {
   "cell_type": "code",
   "execution_count": 3,
   "metadata": {},
   "outputs": [],
   "source": [
    "dict={}\n",
    "for i in range(len(newsId)):\n",
    "    dict[newsId[i]]=newsEmbedding[i]"
   ]
  },
  {
   "cell_type": "code",
   "execution_count": 4,
   "metadata": {},
   "outputs": [],
   "source": [
    "from sklearn.cluster import KMeans"
   ]
  },
  {
   "attachments": {},
   "cell_type": "markdown",
   "metadata": {},
   "source": [
    "## Kmeans"
   ]
  },
  {
   "cell_type": "code",
   "execution_count": 6,
   "metadata": {},
   "outputs": [
    {
     "name": "stderr",
     "output_type": "stream",
     "text": [
      "c:\\Users\\chall\\anaconda3\\lib\\site-packages\\sklearn\\cluster\\_kmeans.py:870: FutureWarning: The default value of `n_init` will change from 10 to 'auto' in 1.4. Set the value of `n_init` explicitly to suppress the warning\n",
      "  warnings.warn(\n"
     ]
    }
   ],
   "source": [
    "kmeans_user = KMeans(n_clusters=100)\n",
    "news_class=kmeans_user.fit_predict(userEmbedding)\n",
    "user_cluster_center=kmeans_user.cluster_centers_"
   ]
  },
  {
   "cell_type": "code",
   "execution_count": 35,
   "metadata": {},
   "outputs": [],
   "source": [
    "random_news=news_data.groupby('category').sample(n=1)"
   ]
  },
  {
   "cell_type": "code",
   "execution_count": 36,
   "metadata": {},
   "outputs": [],
   "source": [
    "random_news=random_news[['itemId','category','subcategory','title','abstract']]"
   ]
  },
  {
   "cell_type": "code",
   "execution_count": 37,
   "metadata": {},
   "outputs": [],
   "source": [
    "random_news=random_news.reset_index()"
   ]
  },
  {
   "attachments": {},
   "cell_type": "markdown",
   "metadata": {},
   "source": [
    "## article preview for new user"
   ]
  },
  {
   "cell_type": "code",
   "execution_count": 38,
   "metadata": {},
   "outputs": [
    {
     "data": {
      "text/html": [
       "<div>\n",
       "<style scoped>\n",
       "    .dataframe tbody tr th:only-of-type {\n",
       "        vertical-align: middle;\n",
       "    }\n",
       "\n",
       "    .dataframe tbody tr th {\n",
       "        vertical-align: top;\n",
       "    }\n",
       "\n",
       "    .dataframe thead th {\n",
       "        text-align: right;\n",
       "    }\n",
       "</style>\n",
       "<table border=\"1\" class=\"dataframe\">\n",
       "  <thead>\n",
       "    <tr style=\"text-align: right;\">\n",
       "      <th></th>\n",
       "      <th>index</th>\n",
       "      <th>itemId</th>\n",
       "      <th>category</th>\n",
       "      <th>subcategory</th>\n",
       "      <th>title</th>\n",
       "      <th>abstract</th>\n",
       "    </tr>\n",
       "  </thead>\n",
       "  <tbody>\n",
       "    <tr>\n",
       "      <th>0</th>\n",
       "      <td>37641</td>\n",
       "      <td>N57170</td>\n",
       "      <td>autos</td>\n",
       "      <td>autosnews</td>\n",
       "      <td>Highfill Police Search For Two Suspects In Hig...</td>\n",
       "      <td>HIGHFILL, Ark. (KFSM)   On Oct. 26 a Highfill ...</td>\n",
       "    </tr>\n",
       "    <tr>\n",
       "      <th>1</th>\n",
       "      <td>16675</td>\n",
       "      <td>N46933</td>\n",
       "      <td>entertainment</td>\n",
       "      <td>entertainment-celebrity</td>\n",
       "      <td>Marisa Tomei comes to Broadway in 'The Rose Ta...</td>\n",
       "      <td></td>\n",
       "    </tr>\n",
       "    <tr>\n",
       "      <th>2</th>\n",
       "      <td>45500</td>\n",
       "      <td>N59067</td>\n",
       "      <td>finance</td>\n",
       "      <td>finance-top-stocks</td>\n",
       "      <td>14 High-Yield Dividend Stocks to Buy for the 4...</td>\n",
       "      <td>14 High-Yield Dividend Stocks to Buy for the 4...</td>\n",
       "    </tr>\n",
       "    <tr>\n",
       "      <th>3</th>\n",
       "      <td>45755</td>\n",
       "      <td>N55147</td>\n",
       "      <td>foodanddrink</td>\n",
       "      <td>videos</td>\n",
       "      <td>Mom vs. Gingerbread House</td>\n",
       "      <td>The internet's coolest mom - Chef Nicole - tak...</td>\n",
       "    </tr>\n",
       "    <tr>\n",
       "      <th>4</th>\n",
       "      <td>23977</td>\n",
       "      <td>N6080</td>\n",
       "      <td>health</td>\n",
       "      <td>medical</td>\n",
       "      <td>MGH doctors diagnose, monitor brain cancer by ...</td>\n",
       "      <td>Scientists at Massachusetts General Hospital d...</td>\n",
       "    </tr>\n",
       "    <tr>\n",
       "      <th>5</th>\n",
       "      <td>27783</td>\n",
       "      <td>N59144</td>\n",
       "      <td>kids</td>\n",
       "      <td>fun</td>\n",
       "      <td>Why do people love to eat pizza? The answer is...</td>\n",
       "      <td>The combinations and the cooking process enhan...</td>\n",
       "    </tr>\n",
       "    <tr>\n",
       "      <th>6</th>\n",
       "      <td>35225</td>\n",
       "      <td>N22595</td>\n",
       "      <td>lifestyle</td>\n",
       "      <td>lifestylefamily</td>\n",
       "      <td>'She fought an amazing fight': McMichael High ...</td>\n",
       "      <td>These videos accompanies a 2017 article about ...</td>\n",
       "    </tr>\n",
       "    <tr>\n",
       "      <th>7</th>\n",
       "      <td>9011</td>\n",
       "      <td>N14979</td>\n",
       "      <td>middleeast</td>\n",
       "      <td>middleeast-top-stories</td>\n",
       "      <td>Rocket falls in Baghdad's Green Zone, killing one</td>\n",
       "      <td>A rocket fell inside Baghdad's heavily fortifi...</td>\n",
       "    </tr>\n",
       "    <tr>\n",
       "      <th>8</th>\n",
       "      <td>5475</td>\n",
       "      <td>N18881</td>\n",
       "      <td>movies</td>\n",
       "      <td>movies-celebrity</td>\n",
       "      <td>Jason Momoa Says He's 'So Freaking Stoked' Tha...</td>\n",
       "      <td>Jason Momoa Congratulates Zoë Kravitz for Role...</td>\n",
       "    </tr>\n",
       "    <tr>\n",
       "      <th>9</th>\n",
       "      <td>943</td>\n",
       "      <td>N48563</td>\n",
       "      <td>music</td>\n",
       "      <td>musicnews</td>\n",
       "      <td>Miranda Lambert announces Bridgestone Arena sh...</td>\n",
       "      <td>Miranda Lambert will play Bridgestone Arena in...</td>\n",
       "    </tr>\n",
       "    <tr>\n",
       "      <th>10</th>\n",
       "      <td>27535</td>\n",
       "      <td>N5193</td>\n",
       "      <td>news</td>\n",
       "      <td>newscrime</td>\n",
       "      <td>Ukrainian man arrested in New Hampshire crash ...</td>\n",
       "      <td>A 23-year-old pickup truck driver with a histo...</td>\n",
       "    </tr>\n",
       "    <tr>\n",
       "      <th>11</th>\n",
       "      <td>46861</td>\n",
       "      <td>N57229</td>\n",
       "      <td>northamerica</td>\n",
       "      <td>northamerica-video</td>\n",
       "      <td>Republicans have floated 17 different defenses...</td>\n",
       "      <td>Since the House formally launched the impeachm...</td>\n",
       "    </tr>\n",
       "    <tr>\n",
       "      <th>12</th>\n",
       "      <td>26615</td>\n",
       "      <td>N40310</td>\n",
       "      <td>sports</td>\n",
       "      <td>football_nfl</td>\n",
       "      <td>Eagles-Vikings: Five reasons for the Birds' lo...</td>\n",
       "      <td>This wasn't the way the Eagles wanted to start...</td>\n",
       "    </tr>\n",
       "    <tr>\n",
       "      <th>13</th>\n",
       "      <td>39079</td>\n",
       "      <td>N18654</td>\n",
       "      <td>travel</td>\n",
       "      <td>travelarticle</td>\n",
       "      <td>Paste: Rhinegeist is one of the best breweries...</td>\n",
       "      <td>In an article from Paste Magazine, Cincinnati'...</td>\n",
       "    </tr>\n",
       "    <tr>\n",
       "      <th>14</th>\n",
       "      <td>39410</td>\n",
       "      <td>N21138</td>\n",
       "      <td>tv</td>\n",
       "      <td>tvnews</td>\n",
       "      <td>Here's Why There's Already Backlash About the ...</td>\n",
       "      <td>Many fans are feeling dubious about the prospe...</td>\n",
       "    </tr>\n",
       "    <tr>\n",
       "      <th>15</th>\n",
       "      <td>36794</td>\n",
       "      <td>N24402</td>\n",
       "      <td>video</td>\n",
       "      <td>news</td>\n",
       "      <td>Amb. William Taylor delivers opening statement...</td>\n",
       "      <td>Acting U.S. Ambassador to Ukraine William Tayl...</td>\n",
       "    </tr>\n",
       "    <tr>\n",
       "      <th>16</th>\n",
       "      <td>45818</td>\n",
       "      <td>N12428</td>\n",
       "      <td>weather</td>\n",
       "      <td>weathertopstories</td>\n",
       "      <td>Firefighters battle blaze at Bogota home on Ri...</td>\n",
       "      <td>Fire blazed in a two-story home on River Road ...</td>\n",
       "    </tr>\n",
       "  </tbody>\n",
       "</table>\n",
       "</div>"
      ],
      "text/plain": [
       "    index  itemId       category              subcategory  \\\n",
       "0   37641  N57170          autos                autosnews   \n",
       "1   16675  N46933  entertainment  entertainment-celebrity   \n",
       "2   45500  N59067        finance       finance-top-stocks   \n",
       "3   45755  N55147   foodanddrink                   videos   \n",
       "4   23977   N6080         health                  medical   \n",
       "5   27783  N59144           kids                      fun   \n",
       "6   35225  N22595      lifestyle          lifestylefamily   \n",
       "7    9011  N14979     middleeast   middleeast-top-stories   \n",
       "8    5475  N18881         movies         movies-celebrity   \n",
       "9     943  N48563          music                musicnews   \n",
       "10  27535   N5193           news                newscrime   \n",
       "11  46861  N57229   northamerica       northamerica-video   \n",
       "12  26615  N40310         sports             football_nfl   \n",
       "13  39079  N18654         travel            travelarticle   \n",
       "14  39410  N21138             tv                   tvnews   \n",
       "15  36794  N24402          video                     news   \n",
       "16  45818  N12428        weather        weathertopstories   \n",
       "\n",
       "                                                title  \\\n",
       "0   Highfill Police Search For Two Suspects In Hig...   \n",
       "1   Marisa Tomei comes to Broadway in 'The Rose Ta...   \n",
       "2   14 High-Yield Dividend Stocks to Buy for the 4...   \n",
       "3                           Mom vs. Gingerbread House   \n",
       "4   MGH doctors diagnose, monitor brain cancer by ...   \n",
       "5   Why do people love to eat pizza? The answer is...   \n",
       "6   'She fought an amazing fight': McMichael High ...   \n",
       "7   Rocket falls in Baghdad's Green Zone, killing one   \n",
       "8   Jason Momoa Says He's 'So Freaking Stoked' Tha...   \n",
       "9   Miranda Lambert announces Bridgestone Arena sh...   \n",
       "10  Ukrainian man arrested in New Hampshire crash ...   \n",
       "11  Republicans have floated 17 different defenses...   \n",
       "12  Eagles-Vikings: Five reasons for the Birds' lo...   \n",
       "13  Paste: Rhinegeist is one of the best breweries...   \n",
       "14  Here's Why There's Already Backlash About the ...   \n",
       "15  Amb. William Taylor delivers opening statement...   \n",
       "16  Firefighters battle blaze at Bogota home on Ri...   \n",
       "\n",
       "                                             abstract  \n",
       "0   HIGHFILL, Ark. (KFSM)   On Oct. 26 a Highfill ...  \n",
       "1                                                      \n",
       "2   14 High-Yield Dividend Stocks to Buy for the 4...  \n",
       "3   The internet's coolest mom - Chef Nicole - tak...  \n",
       "4   Scientists at Massachusetts General Hospital d...  \n",
       "5   The combinations and the cooking process enhan...  \n",
       "6   These videos accompanies a 2017 article about ...  \n",
       "7   A rocket fell inside Baghdad's heavily fortifi...  \n",
       "8   Jason Momoa Congratulates Zoë Kravitz for Role...  \n",
       "9   Miranda Lambert will play Bridgestone Arena in...  \n",
       "10  A 23-year-old pickup truck driver with a histo...  \n",
       "11  Since the House formally launched the impeachm...  \n",
       "12  This wasn't the way the Eagles wanted to start...  \n",
       "13  In an article from Paste Magazine, Cincinnati'...  \n",
       "14  Many fans are feeling dubious about the prospe...  \n",
       "15  Acting U.S. Ambassador to Ukraine William Tayl...  \n",
       "16  Fire blazed in a two-story home on River Road ...  "
      ]
     },
     "execution_count": 38,
     "metadata": {},
     "output_type": "execute_result"
    }
   ],
   "source": [
    "random_news"
   ]
  },
  {
   "cell_type": "code",
   "execution_count": 39,
   "metadata": {},
   "outputs": [],
   "source": [
    "user_read_articles=input('enter articles you like: ')"
   ]
  },
  {
   "cell_type": "code",
   "execution_count": 40,
   "metadata": {},
   "outputs": [],
   "source": [
    "user_read_newsID=[random_news['itemId'][int(i)] for i in user_read_articles.split()]"
   ]
  },
  {
   "cell_type": "code",
   "execution_count": 41,
   "metadata": {},
   "outputs": [
    {
     "data": {
      "text/plain": [
       "['N46933', 'N18881', 'N48563']"
      ]
     },
     "execution_count": 41,
     "metadata": {},
     "output_type": "execute_result"
    }
   ],
   "source": [
    "user_read_newsID"
   ]
  },
  {
   "cell_type": "code",
   "execution_count": 42,
   "metadata": {},
   "outputs": [],
   "source": [
    "new_user_ID=np.zeros(384)\n",
    "for i in user_read_newsID:\n",
    "    new_user_ID+=dict[i]\n",
    "new_user_ID/=len(user_read_articles)"
   ]
  },
  {
   "cell_type": "code",
   "execution_count": 43,
   "metadata": {},
   "outputs": [],
   "source": [
    "user_cluster=kmeans_user.predict(new_user_ID.reshape(1,-1))"
   ]
  },
  {
   "cell_type": "code",
   "execution_count": 44,
   "metadata": {},
   "outputs": [],
   "source": [
    "cluster_center=user_cluster_center[user_cluster[0]]"
   ]
  },
  {
   "cell_type": "code",
   "execution_count": 45,
   "metadata": {},
   "outputs": [],
   "source": [
    "def L2(u,v):\n",
    "    return np.linalg.norm(u-v)"
   ]
  },
  {
   "attachments": {},
   "cell_type": "markdown",
   "metadata": {},
   "source": [
    "## calculating the distances between the user cluster center and all the new article embeddings"
   ]
  },
  {
   "cell_type": "code",
   "execution_count": 46,
   "metadata": {},
   "outputs": [],
   "source": [
    "distances=[]\n",
    "for i in range(len(newsEmbedding)):\n",
    "    distances.append((L2(cluster_center,newsEmbedding[i]),i))\n",
    "distances=sorted(distances)\n"
   ]
  },
  {
   "cell_type": "code",
   "execution_count": 47,
   "metadata": {},
   "outputs": [
    {
     "name": "stdout",
     "output_type": "stream",
     "text": [
      "category:  sports   subcategory:  football_nfl   title:  Kareem Hunt is trying to rewrite his story, backed by a family that knows second chances   abstract:  CLEVELAND, Ohio   On Nov. 30, 2018, Kareem Hunt's life went from success story to cautionary tale. That's the day TMZ published video of Hunt assaulting a woman months earlier in a Cleveland hotel. In a matter of hours, Hunt went from playing a major role on the most exciting team in football, to being waived, to becoming the latest NFL-related face of violence against women. At age 23 and ...\n",
      "category:  sports   subcategory:  football_nfl   title:  Minneapolis' Eastside Food Co-op makes food access 'FARE'   abstract:  Molly Baeverstad took her first food co-op job for a practical reason: to pay the bills. She moved on to nonprofit fundraising, but eventually found her way back for reasons more passionate in nature. The granddaughter of farmers, Baeverstad remembers \"bags and bags\" of zucchini and tomatoes dropped on her parents' stoop. As a kid, she thought everybody ate that way, unaware of how people of ...\n",
      "category:  news   subcategory:  newsus   title:  Straight A's for food trucks in Boston don't quite add up   abstract:  5 Investigates is serving up a reality check about health inspections of the rapidly increasing number of food trucks in Boston. They are trendier than ever, but 5 Investigates discovered what the city tells the public about the cleanliness and health status on these mobile eateries could be misleading. This fall in Boston, there is a smorgasbord of food trucks on the menu in Dewey Square, and all over the city, more than 140 in all. Sign up for...\n",
      "category:  news   subcategory:  newsoffbeat   title:  In 1922, car travel to Florida was no trip to the beach   abstract:  It looked like the world on wheels was coming to Florida, Orlando developer Carl Dann wrote about the 1920s boom. Thanks to Barry Revels of Longwood and the diary his great-grandmother Mattie Cook kept on such a journey, we can glimpse the grit and spirit of adventure it took to make such a move. Mattie, husband Jesse Sr., and their family left New Harmony, Indiana, on June 18, 1922, and arrived July 6 in Sanford. Their 18-day trip began...\n",
      "category:  news   subcategory:  newsoffbeat   title:  MD Good News: Haunted House, Pumpkin Patches, Swimming Bear   abstract:  Good news stories include a girl's run in talent show, TV pilot to film in MD, restaurants opening, Land's End store coming, and $100K win.\n"
     ]
    }
   ],
   "source": [
    "#using average of articles read\n",
    "for i in distances[:5]:\n",
    "    print(\"category: \",news_data['category'][i[1]],\"  subcategory: \",news_data['subcategory'][i[1]],'  title: ',news_data['title'][i[1]],'  abstract: ',news_data['abstract'][i[1]])"
   ]
  },
  {
   "cell_type": "code",
   "execution_count": null,
   "metadata": {},
   "outputs": [],
   "source": []
  }
 ],
 "metadata": {
  "kernelspec": {
   "display_name": "base",
   "language": "python",
   "name": "python3"
  },
  "language_info": {
   "codemirror_mode": {
    "name": "ipython",
    "version": 3
   },
   "file_extension": ".py",
   "mimetype": "text/x-python",
   "name": "python",
   "nbconvert_exporter": "python",
   "pygments_lexer": "ipython3",
   "version": "3.9.16"
  },
  "orig_nbformat": 4
 },
 "nbformat": 4,
 "nbformat_minor": 2
}
