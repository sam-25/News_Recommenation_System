{
 "cells": [
  {
   "cell_type": "code",
   "execution_count": 1,
   "metadata": {},
   "outputs": [],
   "source": [
    "import numpy as np\n",
    "import pandas as pd\n",
    "import plotly.express as px\n",
    "import matplotlib.pyplot as plt"
   ]
  },
  {
   "cell_type": "code",
   "execution_count": 2,
   "metadata": {},
   "outputs": [],
   "source": [
    "news=pd.read_csv(\"preprocessed_news.csv\")\n",
    "user = pd.read_csv('behaviors.tsv', sep = '\\t', names=[\"impressionId\",\"userId\",\"timestamp\",\"click_history\",\"impressions\"])\n",
    "newsEmbedding=np.load('news_embeddings_numpy.npy')"
   ]
  },
  {
   "cell_type": "code",
   "execution_count": 3,
   "metadata": {},
   "outputs": [],
   "source": [
    "user = user.drop_duplicates([\"userId\"])\n",
    "user = user.dropna()"
   ]
  },
  {
   "cell_type": "code",
   "execution_count": 6,
   "metadata": {},
   "outputs": [],
   "source": [
    "def process_impression(impression_list):\n",
    "    list_of_strings = impression_list.split()\n",
    "    click = [x.split('-')[0] for x in list_of_strings if x.split('-')[1] == '1']\n",
    "    non_click = [x.split('-')[0] for x in list_of_strings if x.split('-')[1] == '0']\n",
    "    return click,non_click\n",
    "\n",
    "user['click'], user['noclicks'] = zip(*user['impressions'].map(process_impression))"
   ]
  },
  {
   "cell_type": "code",
   "execution_count": 8,
   "metadata": {},
   "outputs": [],
   "source": [
    "news_dict = {}\n",
    "news_ids = np.array(news['itemId'])"
   ]
  },
  {
   "cell_type": "code",
   "execution_count": 9,
   "metadata": {},
   "outputs": [],
   "source": [
    "for i in range(len(news_ids)):\n",
    "    news_dict[news_ids[i]] = newsEmbedding[i]"
   ]
  },
  {
   "cell_type": "code",
   "execution_count": 11,
   "metadata": {},
   "outputs": [],
   "source": [
    "click_history = np.array(user['click_history'])"
   ]
  },
  {
   "cell_type": "code",
   "execution_count": 12,
   "metadata": {},
   "outputs": [],
   "source": [
    "type(click_history[0])\n",
    "click_history1 = []"
   ]
  },
  {
   "cell_type": "code",
   "execution_count": 14,
   "metadata": {},
   "outputs": [],
   "source": [
    "for i in range(len(click_history)):\n",
    "    # click_history[i] = click_history[i].split(\" \")[0]\n",
    "    click_history1.append(click_history[i].split(\" \"))\n"
   ]
  },
  {
   "cell_type": "code",
   "execution_count": 16,
   "metadata": {},
   "outputs": [],
   "source": [
    "user_dict ={}\n",
    "user_id = np.array(user['userId'])"
   ]
  },
  {
   "cell_type": "code",
   "execution_count": 17,
   "metadata": {},
   "outputs": [],
   "source": [
    "for i in range(len(click_history)):\n",
    "    user_dict[user_id[i]] = click_history1[i]"
   ]
  },
  {
   "cell_type": "code",
   "execution_count": 18,
   "metadata": {},
   "outputs": [],
   "source": [
    "k = []\n",
    "user_emb = []\n",
    "# weights = []\n",
    "for i in user_dict.keys():\n",
    "    empty=np.zeros(384)\n",
    "    for j in user_dict[i]:\n",
    "        empty += news_dict[j]\n",
    "    empty /= len(user_dict[i])\n",
    "    k.append(empty)"
   ]
  },
  {
   "attachments": {},
   "cell_type": "markdown",
   "metadata": {},
   "source": [
    "User Representation - 2"
   ]
  },
  {
   "cell_type": "code",
   "execution_count": 21,
   "metadata": {},
   "outputs": [],
   "source": [
    "\n",
    "# Let ‘k’ be defined as the average news embedding of the click history. Let us consider the weights to be the the dot product of k with the news\n",
    "# embeddings of the click history. Then we take the weighted average of the embeddings of the click history with the above formed weights to form the user embedding.\n",
    "\n",
    "\n",
    "weights = []\n",
    "i_count = 0\n",
    "for i in user_dict.keys():\n",
    "    sum = 0\n",
    "    for j in user_dict[i]:\n",
    "        weights.append(np.dot(k[i_count], news_dict[j].T))\n",
    "    i_count += 1"
   ]
  },
  {
   "cell_type": "code",
   "execution_count": 22,
   "metadata": {},
   "outputs": [],
   "source": [
    "weights = np.array(weights)\n",
    "sum = np.sum(weights)"
   ]
  },
  {
   "cell_type": "code",
   "execution_count": 24,
   "metadata": {},
   "outputs": [],
   "source": [
    "user_emb = []\n",
    "i_count = 0\n",
    "for i in user_dict.keys():\n",
    "    partial_sum = 0\n",
    "    empty=np.zeros(384)\n",
    "    for j in user_dict[i]:\n",
    "        empty += (weights[i_count]*news_dict[j])\n",
    "        partial_sum += weights[i_count]\n",
    "        i_count += 1\n",
    "    user_emb.append(empty/partial_sum)\n",
    "    "
   ]
  },
  {
   "cell_type": "code",
   "execution_count": 25,
   "metadata": {},
   "outputs": [],
   "source": [
    "np.save(\"new_user_embiddings.npy\", user_emb)"
   ]
  },
  {
   "attachments": {},
   "cell_type": "markdown",
   "metadata": {},
   "source": [
    "User Representation - 3"
   ]
  },
  {
   "cell_type": "code",
   "execution_count": 27,
   "metadata": {},
   "outputs": [],
   "source": [
    "# We formed n (number of news articles in the click history) vectors, by taking the weighted average, with weights, being the dot product of  Vi and Vj. The we take average \n",
    "# of these vectora to form the final user representation.\n",
    "\n",
    "user_emb_2 = []\n",
    "for i in user_dict.keys():\n",
    "    v_dash = []\n",
    "    weights = []\n",
    "    middle = np.zeros(384)\n",
    "    i_count = 0\n",
    "    for j in user_dict[i]:\n",
    "        for p in user_dict[i]:\n",
    "            weights.append(np.dot(news_dict[j], news_dict[p].T))\n",
    "\n",
    "\n",
    "    for j in user_dict[i]:\n",
    "        empty=np.zeros(384)\n",
    "        partial_sum = 0\n",
    "        for k in user_dict[i]:\n",
    "            empty += (weights[i_count]*news_dict[k])\n",
    "            partial_sum += weights[i_count]\n",
    "            i_count += 1\n",
    "        \n",
    "        v_dash.append(empty/partial_sum)\n",
    "    # break\n",
    "    for a in range(len(v_dash)):\n",
    "        middle += v_dash[a]\n",
    "        middle = middle/len(v_dash)\n",
    "    user_emb_2.append(middle)\n"
   ]
  },
  {
   "cell_type": "code",
   "execution_count": 141,
   "metadata": {},
   "outputs": [],
   "source": [
    "np.save(\"new_user_embiddings_2.npy\", user_emb_2)"
   ]
  }
 ],
 "metadata": {
  "kernelspec": {
   "display_name": "Python 3",
   "language": "python",
   "name": "python3"
  },
  "language_info": {
   "codemirror_mode": {
    "name": "ipython",
    "version": 3
   },
   "file_extension": ".py",
   "mimetype": "text/x-python",
   "name": "python",
   "nbconvert_exporter": "python",
   "pygments_lexer": "ipython3",
   "version": "3.10.6"
  },
  "orig_nbformat": 4,
  "vscode": {
   "interpreter": {
    "hash": "916dbcbb3f70747c44a77c7bcd40155683ae19c65e1c03b4aa3499c5328201f1"
   }
  }
 },
 "nbformat": 4,
 "nbformat_minor": 2
}
